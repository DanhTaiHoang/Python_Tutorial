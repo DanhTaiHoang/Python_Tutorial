{
 "cells": [
  {
   "cell_type": "code",
   "execution_count": 1,
   "metadata": {},
   "outputs": [],
   "source": [
    "## Holm-Sidak adjusted p-values\n",
    "## Ref: https://stats.idre.ucla.edu/stata/code/idak-holm-adjusted-p-values/\n",
    "import numpy as np"
   ]
  },
  {
   "cell_type": "code",
   "execution_count": 2,
   "metadata": {},
   "outputs": [
    {
     "name": "stdout",
     "output_type": "stream",
     "text": [
      "[2.703633e-01 2.861805e-01 6.744550e-02 2.884618e-01 5.229450e-02\n",
      " 9.418600e-03 4.125320e-02 1.566575e-01 2.960000e-03 6.872800e-03\n",
      " 2.555300e-02 3.102804e-01 4.257800e-03 3.154200e-03 2.400000e-05]\n"
     ]
    }
   ],
   "source": [
    "p = np.array([0.2703633, 0.2861805, 0.0674455, 0.2884618, 0.0522945, 0.0094186, 0.0412532, 0.1566575,\n",
    "0.00296, 0.0068728, 0.025553, 0.3102804, 0.0042578, 0.0031542, 0.000024])\n",
    "\n",
    "print(p)"
   ]
  },
  {
   "cell_type": "code",
   "execution_count": 3,
   "metadata": {},
   "outputs": [],
   "source": [
    "def holm_sidak_adjusted_pvalues(p):\n",
    "    ## input: sorted p_values\n",
    "    ## output: Holm-Sidak adjusted\n",
    "    \n",
    "    n = len(p)\n",
    "    k = np.array([n - i for i in range(n)])\n",
    "    \n",
    "    p_hs = np.zeros(n)\n",
    "\n",
    "    p_hs[0] = 1 - (1-p[0])**k[0]\n",
    "    for i in range(1,n):\n",
    "        p_hs[i] = max(p_hs[i-1], 1 - (1-p[i])**k[i])\n",
    "        \n",
    "    return p_hs"
   ]
  },
  {
   "cell_type": "code",
   "execution_count": 5,
   "metadata": {},
   "outputs": [
    {
     "name": "stdout",
     "output_type": "stream",
     "text": [
      "[3.59939526e-04 4.06520581e-02 4.06520581e-02 4.99139152e-02\n",
      " 7.30556903e-02 9.02926777e-02 2.07819758e-01 2.86109801e-01\n",
      " 3.13384177e-01 3.42273511e-01 5.73400900e-01 7.16582488e-01\n",
      " 7.16582488e-01 7.16582488e-01 7.16582488e-01]\n"
     ]
    }
   ],
   "source": [
    "p_sorted = np.sort(p)\n",
    "p_hs = holm_sidak_adjusted_pvalues(p_sorted)\n",
    "print(p_hs)"
   ]
  },
  {
   "cell_type": "code",
   "execution_count": null,
   "metadata": {},
   "outputs": [],
   "source": []
  }
 ],
 "metadata": {
  "kernelspec": {
   "display_name": "Python 3",
   "language": "python",
   "name": "python3"
  },
  "language_info": {
   "codemirror_mode": {
    "name": "ipython",
    "version": 3
   },
   "file_extension": ".py",
   "mimetype": "text/x-python",
   "name": "python",
   "nbconvert_exporter": "python",
   "pygments_lexer": "ipython3",
   "version": "3.7.4"
  }
 },
 "nbformat": 4,
 "nbformat_minor": 4
}
