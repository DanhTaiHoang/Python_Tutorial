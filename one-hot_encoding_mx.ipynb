{
 "cells": [
  {
   "cell_type": "code",
   "execution_count": 1,
   "metadata": {},
   "outputs": [],
   "source": [
    "import numpy as np"
   ]
  },
  {
   "cell_type": "code",
   "execution_count": 2,
   "metadata": {},
   "outputs": [
    {
     "name": "stdout",
     "output_type": "stream",
     "text": [
      "[0 2 5 8]\n"
     ]
    }
   ],
   "source": [
    "n = 3\n",
    "mx = np.array([2,3,3])\n",
    "#print(mx.cumsum())\n",
    "\n",
    "mx_cumsum = np.insert(mx.cumsum(),0,0)\n",
    "print(mx_cumsum)"
   ]
  },
  {
   "cell_type": "code",
   "execution_count": 3,
   "metadata": {},
   "outputs": [
    {
     "name": "stdout",
     "output_type": "stream",
     "text": [
      "[[0 2]\n",
      " [2 5]\n",
      " [5 8]]\n"
     ]
    }
   ],
   "source": [
    "i1i2 = np.stack([mx_cumsum[:-1],mx_cumsum[1:]]).T\n",
    "print(i1i2)"
   ]
  },
  {
   "cell_type": "code",
   "execution_count": 4,
   "metadata": {},
   "outputs": [
    {
     "name": "stdout",
     "output_type": "stream",
     "text": [
      "(0, 2)\n",
      "(2, 5)\n",
      "(5, 8)\n"
     ]
    }
   ],
   "source": [
    "for i in range(n):\n",
    "    print(i1i2[i,0],i1i2[i,1])"
   ]
  },
  {
   "cell_type": "code",
   "execution_count": 5,
   "metadata": {},
   "outputs": [
    {
     "name": "stdout",
     "output_type": "stream",
     "text": [
      "(0, 2)\n",
      "(2, 5)\n",
      "(5, 8)\n"
     ]
    }
   ],
   "source": [
    "for i in range(n):\n",
    "    print(mx_cumsum[i],mx_cumsum[i+1])"
   ]
  },
  {
   "cell_type": "code",
   "execution_count": null,
   "metadata": {},
   "outputs": [],
   "source": []
  }
 ],
 "metadata": {
  "kernelspec": {
   "display_name": "Python 2",
   "language": "python",
   "name": "python2"
  },
  "language_info": {
   "codemirror_mode": {
    "name": "ipython",
    "version": 2
   },
   "file_extension": ".py",
   "mimetype": "text/x-python",
   "name": "python",
   "nbconvert_exporter": "python",
   "pygments_lexer": "ipython2",
   "version": "2.7.15"
  }
 },
 "nbformat": 4,
 "nbformat_minor": 2
}
