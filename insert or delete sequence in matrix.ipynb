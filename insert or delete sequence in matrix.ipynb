{
 "cells": [
  {
   "cell_type": "code",
   "execution_count": 1,
   "metadata": {},
   "outputs": [],
   "source": [
    "import numpy as np"
   ]
  },
  {
   "cell_type": "code",
   "execution_count": 2,
   "metadata": {},
   "outputs": [
    {
     "name": "stdout",
     "output_type": "stream",
     "text": [
      "[[11 12 13 14]\n",
      " [21 22 23 24]\n",
      " [31 32 33 34]\n",
      " [41 42 43 44]]\n"
     ]
    }
   ],
   "source": [
    "a = np.array([[11,12,13,14],[21,22,23,24],[31,32,33,34],[41,42,43,44]])\n",
    "print(a)"
   ]
  },
  {
   "cell_type": "code",
   "execution_count": 3,
   "metadata": {},
   "outputs": [
    {
     "name": "stdout",
     "output_type": "stream",
     "text": [
      "[[11 12  0 13 14]\n",
      " [21 22  0 23 24]\n",
      " [31 32  0 33 34]\n",
      " [41 42  0 43 44]]\n"
     ]
    }
   ],
   "source": [
    "# insert a zero-column to the column 2\n",
    "a = np.insert(a,2,0.,axis=1)\n",
    "print(a)"
   ]
  },
  {
   "cell_type": "code",
   "execution_count": 4,
   "metadata": {},
   "outputs": [
    {
     "name": "stdout",
     "output_type": "stream",
     "text": [
      "[[11 12  0 13 14  0]\n",
      " [21 22  0 23 24  0]\n",
      " [31 32  0 33 34  0]\n",
      " [41 42  0 43 44  0]]\n"
     ]
    }
   ],
   "source": [
    "# insert a zero-column to the column 5\n",
    "a = np.insert(a,5,0.,axis=1)\n",
    "print(a)"
   ]
  },
  {
   "cell_type": "code",
   "execution_count": 5,
   "metadata": {},
   "outputs": [
    {
     "name": "stdout",
     "output_type": "stream",
     "text": [
      "[[11 12  0 13 14  0]\n",
      " [21 22  0 23 24  0]\n",
      " [ 0  0  0  0  0  0]\n",
      " [31 32  0 33 34  0]\n",
      " [41 42  0 43 44  0]]\n"
     ]
    }
   ],
   "source": [
    "# insert a zero-row to the row 2\n",
    "a = np.insert(a,2,0.,axis=0)\n",
    "print(a)"
   ]
  },
  {
   "cell_type": "code",
   "execution_count": 6,
   "metadata": {},
   "outputs": [
    {
     "name": "stdout",
     "output_type": "stream",
     "text": [
      "[[11 12  0 13 14  0]\n",
      " [21 22  0 23 24  0]\n",
      " [ 0  0  0  0  0  0]\n",
      " [31 32  0 33 34  0]\n",
      " [41 42  0 43 44  0]\n",
      " [ 0  0  0  0  0  0]]\n"
     ]
    }
   ],
   "source": [
    "# insert a zero-row to the row 5\n",
    "a = np.insert(a,5,0.,axis=0)\n",
    "print(a)"
   ]
  },
  {
   "cell_type": "code",
   "execution_count": 7,
   "metadata": {},
   "outputs": [
    {
     "name": "stdout",
     "output_type": "stream",
     "text": [
      "[[11 12 13 14]\n",
      " [21 22 23 24]\n",
      " [31 32 33 34]\n",
      " [41 42 43 44]]\n"
     ]
    }
   ],
   "source": [
    "a = np.array([[11,12,13,14],[21,22,23,24],[31,32,33,34],[41,42,43,44]])\n",
    "print(a)"
   ]
  },
  {
   "cell_type": "code",
   "execution_count": 8,
   "metadata": {},
   "outputs": [
    {
     "name": "stdout",
     "output_type": "stream",
     "text": [
      "[[11 12  0 13 14]\n",
      " [21 22  0 23 24]\n",
      " [31 32  0 33 34]\n",
      " [41 42  0 43 44]]\n",
      "[[11 12  0 13 14  0]\n",
      " [21 22  0 23 24  0]\n",
      " [31 32  0 33 34  0]\n",
      " [41 42  0 43 44  0]]\n"
     ]
    }
   ],
   "source": [
    "# insert 0 as 2nd and 5th columns\n",
    "ilist = [2,5]\n",
    "\n",
    "for i in ilist:\n",
    "    a = np.insert(a,i,0,axis=1)\n",
    "    print(a)"
   ]
  },
  {
   "cell_type": "code",
   "execution_count": 9,
   "metadata": {
    "scrolled": true
   },
   "outputs": [
    {
     "name": "stdout",
     "output_type": "stream",
     "text": [
      "[[11 12 13 14]\n",
      " [21 22 23 24]\n",
      " [31 32 33 34]\n",
      " [41 42 43 44]]\n"
     ]
    }
   ],
   "source": [
    "# delele column ilist:\n",
    "a = np.delete(a,ilist[::-1],axis=1)\n",
    "print(a)"
   ]
  },
  {
   "cell_type": "code",
   "execution_count": null,
   "metadata": {},
   "outputs": [],
   "source": []
  }
 ],
 "metadata": {
  "kernelspec": {
   "display_name": "Python 2",
   "language": "python",
   "name": "python2"
  },
  "language_info": {
   "codemirror_mode": {
    "name": "ipython",
    "version": 2
   },
   "file_extension": ".py",
   "mimetype": "text/x-python",
   "name": "python",
   "nbconvert_exporter": "python",
   "pygments_lexer": "ipython2",
   "version": "2.7.15"
  }
 },
 "nbformat": 4,
 "nbformat_minor": 2
}
