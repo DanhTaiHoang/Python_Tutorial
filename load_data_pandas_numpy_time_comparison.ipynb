{
 "cells": [
  {
   "cell_type": "code",
   "execution_count": 1,
   "metadata": {},
   "outputs": [],
   "source": [
    "import numpy as np\n",
    "import pandas as pd\n",
    "import matplotlib.pyplot as plt\n",
    "import timeit"
   ]
  },
  {
   "cell_type": "code",
   "execution_count": 2,
   "metadata": {},
   "outputs": [],
   "source": [
    "np.random.seed(1)"
   ]
  },
  {
   "cell_type": "code",
   "execution_count": 3,
   "metadata": {},
   "outputs": [
    {
     "name": "stdout",
     "output_type": "stream",
     "text": [
      "0\n",
      "1\n",
      "2\n",
      "3\n",
      "4\n",
      "5\n",
      "6\n",
      "7\n",
      "8\n",
      "9\n",
      "10\n",
      "11\n",
      "12\n",
      "13\n",
      "14\n",
      "15\n",
      "16\n",
      "17\n",
      "18\n",
      "19\n",
      "20\n",
      "21\n",
      "22\n",
      "23\n",
      "24\n",
      "25\n",
      "26\n",
      "27\n",
      "28\n",
      "29\n",
      "30\n",
      "31\n",
      "32\n",
      "33\n",
      "34\n",
      "35\n",
      "run_time: 18.994336202\n"
     ]
    }
   ],
   "source": [
    "# using pandas\n",
    "start_time = timeit.default_timer()\n",
    "for i in range(36):\n",
    "    df = pd.read_csv('../methylation_data/HS%s_me.txt'%(i+1), delimiter='\\s+', usecols=[2,3])\n",
    "    #df[0:20]\n",
    "    x = np.array(df)\n",
    "    \n",
    "    #if i%3 ==0:\n",
    "    #    print(' ')\n",
    "    #print(i+1, x.shape, x[:,0].min(), x[:,0].max(), x[:,1].mean())\n",
    "\n",
    "    print(i)\n",
    "run_time = timeit.default_timer() - start_time\n",
    "print('run_time:', run_time)"
   ]
  },
  {
   "cell_type": "code",
   "execution_count": 5,
   "metadata": {},
   "outputs": [
    {
     "name": "stdout",
     "output_type": "stream",
     "text": [
      "0\n",
      "1\n",
      "2\n",
      "3\n",
      "4\n",
      "5\n",
      "6\n",
      "7\n",
      "8\n",
      "9\n",
      "10\n",
      "11\n",
      "12\n",
      "13\n",
      "14\n",
      "15\n",
      "16\n",
      "17\n",
      "18\n",
      "19\n",
      "20\n",
      "21\n",
      "22\n",
      "23\n",
      "24\n",
      "25\n",
      "26\n",
      "27\n",
      "28\n",
      "29\n",
      "30\n",
      "31\n",
      "32\n",
      "33\n",
      "34\n",
      "35\n",
      "run_time: 312.501840532\n"
     ]
    }
   ],
   "source": [
    "# using pandas\n",
    "start_time = timeit.default_timer()\n",
    "for i in range(36):\n",
    "    df = np.loadtxt('../methylation_data_2cols/HS%s.txt'%(i+1))\n",
    "    \n",
    "    print(i)\n",
    "run_time = timeit.default_timer() - start_time\n",
    "print('run_time:', run_time)"
   ]
  },
  {
   "cell_type": "code",
   "execution_count": 6,
   "metadata": {},
   "outputs": [
    {
     "name": "stdout",
     "output_type": "stream",
     "text": [
      "0\n",
      "1\n",
      "2\n",
      "3\n",
      "4\n",
      "5\n",
      "6\n",
      "7\n",
      "8\n",
      "9\n",
      "10\n",
      "11\n",
      "12\n",
      "13\n",
      "14\n",
      "15\n",
      "16\n",
      "17\n",
      "18\n",
      "19\n",
      "20\n",
      "21\n",
      "22\n",
      "23\n",
      "24\n",
      "25\n",
      "26\n",
      "27\n",
      "28\n",
      "29\n",
      "30\n",
      "31\n",
      "32\n",
      "33\n",
      "34\n",
      "35\n",
      "run_time: 35.60783568399995\n"
     ]
    }
   ],
   "source": [
    "# using numpy\n",
    "start_time = timeit.default_timer()\n",
    "for i in range(36):\n",
    "    df = pd.read_csv('../methylation_data_2cols/HS%s.txt'%(i+1))\n",
    "    \n",
    "    print(i)\n",
    "run_time = timeit.default_timer() - start_time\n",
    "print('run_time:', run_time)"
   ]
  },
  {
   "cell_type": "code",
   "execution_count": null,
   "metadata": {},
   "outputs": [],
   "source": []
  }
 ],
 "metadata": {
  "kernelspec": {
   "display_name": "Python 3",
   "language": "python",
   "name": "python3"
  },
  "language_info": {
   "codemirror_mode": {
    "name": "ipython",
    "version": 3
   },
   "file_extension": ".py",
   "mimetype": "text/x-python",
   "name": "python",
   "nbconvert_exporter": "python",
   "pygments_lexer": "ipython3",
   "version": "3.7.4"
  }
 },
 "nbformat": 4,
 "nbformat_minor": 2
}
