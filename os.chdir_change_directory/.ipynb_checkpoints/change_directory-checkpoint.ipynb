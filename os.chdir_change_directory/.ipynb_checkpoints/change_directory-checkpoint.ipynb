{
 "cells": [
  {
   "cell_type": "code",
   "execution_count": 1,
   "metadata": {},
   "outputs": [],
   "source": [
    "import os"
   ]
  },
  {
   "cell_type": "code",
   "execution_count": 3,
   "metadata": {},
   "outputs": [
    {
     "name": "stdout",
     "output_type": "stream",
     "text": [
      "Current working directory: /Users/u1094325/test_PyHIST/os.chdir_change_directory\n"
     ]
    }
   ],
   "source": [
    "## current working directory.\n",
    "current_dir = os.getcwd()\n",
    "print(\"Current working directory:\", current_dir)"
   ]
  },
  {
   "cell_type": "code",
   "execution_count": 4,
   "metadata": {},
   "outputs": [
    {
     "name": "stdout",
     "output_type": "stream",
     "text": [
      "/Users/u1094325/Documents/\n",
      "Check current working directory: /Users/u1094325/Documents\n"
     ]
    }
   ],
   "source": [
    "new_dir = \"/Users/u1094325/Documents/\"\n",
    "print(new_dir)\n",
    "\n",
    "## Change to the \"new_dir\" directory\n",
    "os.chdir(new_dir)\n",
    "\n",
    "## check\n",
    "check_dir = os.getcwd()\n",
    "print(\"Check current working directory:\", check_dir)"
   ]
  },
  {
   "cell_type": "code",
   "execution_count": null,
   "metadata": {},
   "outputs": [],
   "source": []
  }
 ],
 "metadata": {
  "kernelspec": {
   "display_name": "Python 3",
   "language": "python",
   "name": "python3"
  },
  "language_info": {
   "codemirror_mode": {
    "name": "ipython",
    "version": 3
   },
   "file_extension": ".py",
   "mimetype": "text/x-python",
   "name": "python",
   "nbconvert_exporter": "python",
   "pygments_lexer": "ipython3",
   "version": "3.7.4"
  }
 },
 "nbformat": 4,
 "nbformat_minor": 4
}
