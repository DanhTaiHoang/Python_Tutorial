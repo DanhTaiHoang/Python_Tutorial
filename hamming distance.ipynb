{
 "cells": [
  {
   "cell_type": "code",
   "execution_count": 1,
   "metadata": {},
   "outputs": [],
   "source": [
    "import sys\n",
    "import numpy as np\n",
    "from scipy.spatial import distance"
   ]
  },
  {
   "cell_type": "code",
   "execution_count": 2,
   "metadata": {},
   "outputs": [
    {
     "name": "stdout",
     "output_type": "stream",
     "text": [
      "0.6\n"
     ]
    }
   ],
   "source": [
    "# for only 2 sequences:\n",
    "a = np.array([1,2,3,5,7])\n",
    "b = np.array([2,1,3,4,7])\n",
    "\n",
    "dst = distance.hamming(a,b)\n",
    "print(dst)"
   ]
  },
  {
   "cell_type": "code",
   "execution_count": 3,
   "metadata": {},
   "outputs": [
    {
     "name": "stdout",
     "output_type": "stream",
     "text": [
      "[[1 2 3 5 7]\n",
      " [2 1 3 4 7]\n",
      " [1 2 3 4 7]\n",
      " [0 2 3 8 2]]\n"
     ]
    }
   ],
   "source": [
    "# for a matrix:\n",
    "a = np.array([[1,2,3,5,7],[2,1,3,4,7],[1,2,3,4,7],[0,2,3,8,2]])\n",
    "print(a)"
   ]
  },
  {
   "cell_type": "code",
   "execution_count": 4,
   "metadata": {},
   "outputs": [
    {
     "name": "stdout",
     "output_type": "stream",
     "text": [
      "(4, 5)\n"
     ]
    }
   ],
   "source": [
    "t,n = a.shape\n",
    "print(t,n)"
   ]
  },
  {
   "cell_type": "code",
   "execution_count": 5,
   "metadata": {},
   "outputs": [
    {
     "name": "stdout",
     "output_type": "stream",
     "text": [
      "[0.6 0.2 0.6 0.4 0.8 0.6]\n"
     ]
    }
   ],
   "source": [
    "dst = distance.pdist(a, 'hamming')\n",
    "print(dst)"
   ]
  },
  {
   "cell_type": "code",
   "execution_count": 6,
   "metadata": {},
   "outputs": [
    {
     "name": "stdout",
     "output_type": "stream",
     "text": [
      "[[0.  0.6 0.2 0.6]\n",
      " [0.6 0.  0.4 0.8]\n",
      " [0.2 0.4 0.  0.6]\n",
      " [0.6 0.8 0.6 0. ]]\n"
     ]
    }
   ],
   "source": [
    "dst2 = distance.squareform(dst)\n",
    "print(dst2)"
   ]
  },
  {
   "cell_type": "code",
   "execution_count": 7,
   "metadata": {},
   "outputs": [
    {
     "name": "stdout",
     "output_type": "stream",
     "text": [
      "[[ True False  True False]\n",
      " [False  True False False]\n",
      " [ True False  True False]\n",
      " [False False False  True]]\n"
     ]
    }
   ],
   "source": [
    "theta = 0.2\n",
    "ma = dst2 <= theta\n",
    "print(ma)"
   ]
  },
  {
   "cell_type": "code",
   "execution_count": 8,
   "metadata": {},
   "outputs": [
    {
     "name": "stdout",
     "output_type": "stream",
     "text": [
      "[2 1 2 1]\n"
     ]
    }
   ],
   "source": [
    "# sum over every sequence:\n",
    "ma2 = (dst2 <= theta).sum(axis=1)\n",
    "print(ma2)"
   ]
  },
  {
   "cell_type": "code",
   "execution_count": null,
   "metadata": {},
   "outputs": [],
   "source": []
  }
 ],
 "metadata": {
  "kernelspec": {
   "display_name": "Python 2",
   "language": "python",
   "name": "python2"
  },
  "language_info": {
   "codemirror_mode": {
    "name": "ipython",
    "version": 2
   },
   "file_extension": ".py",
   "mimetype": "text/x-python",
   "name": "python",
   "nbconvert_exporter": "python",
   "pygments_lexer": "ipython2",
   "version": "2.7.15"
  }
 },
 "nbformat": 4,
 "nbformat_minor": 2
}
