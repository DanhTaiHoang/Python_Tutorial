{
 "cells": [
  {
   "cell_type": "code",
   "execution_count": 1,
   "metadata": {},
   "outputs": [
    {
     "name": "stdout",
     "output_type": "stream",
     "text": [
      "Good Morning everyOne\n"
     ]
    }
   ],
   "source": [
    "a = \"Good Morning everyOne\"\n",
    "\n",
    "print(a)"
   ]
  },
  {
   "cell_type": "code",
   "execution_count": 2,
   "metadata": {},
   "outputs": [
    {
     "name": "stdout",
     "output_type": "stream",
     "text": [
      "21\n"
     ]
    }
   ],
   "source": [
    "# length\n",
    "l = len(a)\n",
    "print(l)"
   ]
  },
  {
   "cell_type": "code",
   "execution_count": 3,
   "metadata": {},
   "outputs": [
    {
     "name": "stdout",
     "output_type": "stream",
     "text": [
      "G\n"
     ]
    }
   ],
   "source": [
    "# get characters in a string\n",
    "a1 = a[0]\n",
    "print(a1)"
   ]
  },
  {
   "cell_type": "code",
   "execution_count": 4,
   "metadata": {},
   "outputs": [
    {
     "name": "stdout",
     "output_type": "stream",
     "text": [
      "3\n",
      "2\n"
     ]
    }
   ],
   "source": [
    "# count number of character 'o' in a string\n",
    "n = a.count('o')\n",
    "print(n)\n",
    "\n",
    "# count number of space\n",
    "n = a.count(' ')\n",
    "print(n)"
   ]
  },
  {
   "cell_type": "code",
   "execution_count": 5,
   "metadata": {},
   "outputs": [
    {
     "name": "stdout",
     "output_type": "stream",
     "text": [
      "5\n"
     ]
    }
   ],
   "source": [
    "# position of a letter\n",
    "i = a.index('Morning')\n",
    "print(i)"
   ]
  },
  {
   "cell_type": "code",
   "execution_count": 6,
   "metadata": {},
   "outputs": [
    {
     "name": "stdout",
     "output_type": "stream",
     "text": [
      "Good Morn\n",
      "['Good', 'Morning', 'everyOne']\n"
     ]
    }
   ],
   "source": [
    "# split\n",
    "b = a[:9]\n",
    "print(b)\n",
    "\n",
    "# split on space\n",
    "b = a.split(' ')\n",
    "print(b)"
   ]
  },
  {
   "cell_type": "code",
   "execution_count": 7,
   "metadata": {},
   "outputs": [
    {
     "name": "stdout",
     "output_type": "stream",
     "text": [
      "Good\n"
     ]
    }
   ],
   "source": [
    "print(b[0])"
   ]
  },
  {
   "cell_type": "code",
   "execution_count": 8,
   "metadata": {},
   "outputs": [
    {
     "name": "stdout",
     "output_type": "stream",
     "text": [
      "3\n"
     ]
    }
   ],
   "source": [
    "print(len(b))"
   ]
  },
  {
   "cell_type": "code",
   "execution_count": 9,
   "metadata": {},
   "outputs": [
    {
     "name": "stdout",
     "output_type": "stream",
     "text": [
      "Good Morning everyOne\n",
      "Good Afternoon everyOne\n"
     ]
    }
   ],
   "source": [
    "# replace\n",
    "print(a)\n",
    "b = a.replace('Morning','Afternoon')\n",
    "print(b)"
   ]
  },
  {
   "cell_type": "code",
   "execution_count": 10,
   "metadata": {},
   "outputs": [
    {
     "name": "stdout",
     "output_type": "stream",
     "text": [
      "GOOD MORNING EVERYONE\n",
      "good morning everyone\n",
      "Good Morning Everyone\n",
      "Good morning everyone\n",
      "gOOD mORNING EVERYoNE\n"
     ]
    }
   ],
   "source": [
    "# Change UPPER and lower case\n",
    "b = a.upper()\n",
    "print(b)\n",
    "\n",
    "b = a.lower()\n",
    "print(b)\n",
    "\n",
    "b = a.title()\n",
    "print(b)\n",
    "\n",
    "b = a.capitalize()\n",
    "print(b)\n",
    "\n",
    "b = a.swapcase()\n",
    "print(b)"
   ]
  },
  {
   "cell_type": "code",
   "execution_count": 11,
   "metadata": {},
   "outputs": [
    {
     "name": "stdout",
     "output_type": "stream",
     "text": [
      "enOyreve gninroM dooG\n"
     ]
    }
   ],
   "source": [
    "# reverse\n",
    "b = a[::-1]\n",
    "print(b)"
   ]
  },
  {
   "cell_type": "code",
   "execution_count": 12,
   "metadata": {},
   "outputs": [
    {
     "name": "stdout",
     "output_type": "stream",
     "text": [
      "  My name is   \n",
      "15\n",
      "My name is\n",
      "10\n"
     ]
    }
   ],
   "source": [
    "# remove leading/ending spaces\n",
    "a = '  My name is   '\n",
    "print(a)\n",
    "print(len(a))\n",
    "\n",
    "b = a.strip()\n",
    "print(b)\n",
    "print(len(b))"
   ]
  },
  {
   "cell_type": "code",
   "execution_count": 13,
   "metadata": {},
   "outputs": [
    {
     "name": "stdout",
     "output_type": "stream",
     "text": [
      "False\n",
      "False\n",
      "False\n",
      "True\n"
     ]
    }
   ],
   "source": [
    "# check if all characters in a string are lower cases\n",
    "t = b.islower()\n",
    "print(t)\n",
    "\n",
    "# if string contains only alphanumeric\n",
    "t = b.isalnum()\n",
    "print(t)\n",
    "\n",
    "# alphabetic\n",
    "t = b.isalpha()\n",
    "print(t)\n",
    "\n",
    "c = 'Myname'\n",
    "t = c.isalpha()\n",
    "print(t)"
   ]
  }
 ],
 "metadata": {
  "kernelspec": {
   "display_name": "Python 2",
   "language": "python",
   "name": "python2"
  },
  "language_info": {
   "codemirror_mode": {
    "name": "ipython",
    "version": 2
   },
   "file_extension": ".py",
   "mimetype": "text/x-python",
   "name": "python",
   "nbconvert_exporter": "python",
   "pygments_lexer": "ipython2",
   "version": "2.7.15"
  }
 },
 "nbformat": 4,
 "nbformat_minor": 2
}
