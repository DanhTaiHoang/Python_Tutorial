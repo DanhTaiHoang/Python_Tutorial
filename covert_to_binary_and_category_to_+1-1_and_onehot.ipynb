{
 "cells": [
  {
   "cell_type": "code",
   "execution_count": 1,
   "metadata": {},
   "outputs": [],
   "source": [
    "import numpy as np\n",
    "from sklearn.preprocessing import OneHotEncoder"
   ]
  },
  {
   "cell_type": "code",
   "execution_count": 2,
   "metadata": {
    "scrolled": false
   },
   "outputs": [
    {
     "name": "stdout",
     "output_type": "stream",
     "text": [
      "[['0.5' 'yes' 'male' '2' '0.1' 'A']\n",
      " ['0.6' 'no' 'female' '4' '5.1' 'B']\n",
      " ['1.2' 'no' 'male' '6' '11' 'C']\n",
      " ['1.5' 'yes' 'female' '6' '21' 'A']\n",
      " ['2.3' 'yes' 'male' '4' '0.2' 'C']\n",
      " ['0.6' 'yes' 'male' '2' '1.3' 'C']]\n"
     ]
    }
   ],
   "source": [
    "# create an array\n",
    "#0rst coloumn: continuous, 1-2: binary, 3: category (3), 4: continuous, 5: category(3)\n",
    "\n",
    "x = np.array([[0.5,'yes','male',2,0.1,'A'],\\\n",
    "              [0.6,'no','female',4,5.1,'B'],\\\n",
    "              [1.2,'no','male',6,11,'C'],\\\n",
    "              [1.5,'yes','female',6,21,'A'],\\\n",
    "              [2.3,'yes','male',4,0.2,'C'],\\\n",
    "              [0.6,'yes','male',2,1.3,'C']])\n",
    "print(x)"
   ]
  },
  {
   "cell_type": "code",
   "execution_count": 3,
   "metadata": {},
   "outputs": [],
   "source": [
    "# 1: continuous, 2: binary, 3: category\n",
    "variable_type = [1,2,2,3,1,3]"
   ]
  },
  {
   "cell_type": "code",
   "execution_count": 4,
   "metadata": {},
   "outputs": [],
   "source": [
    "def convert_binary_and_category(x,variable_type):\n",
    "    \"\"\"\n",
    "    convert binary to +-1, category to one hot; remain continuous.\n",
    "    \"\"\"\n",
    "    \n",
    "    onehot_encoder = OneHotEncoder(sparse=False,categories='auto')\n",
    "\n",
    "    # create 2 initial columns\n",
    "    x_new = np.zeros((x.shape[0],2))\n",
    "\n",
    "    for i,i_type in enumerate(variable_type):\n",
    "        if i_type == 1: # continuous\n",
    "            x_new = np.hstack((x_new,x[:,i][:,np.newaxis]))\n",
    "        elif i_type == 2: # binary\n",
    "            unique_value = np.unique(x[:,i])\n",
    "            x1 = np.array([-1. if value == unique_value[0] else 1. for value in x[:,i]])        \n",
    "            x_new = np.hstack((x_new,x1[:,np.newaxis]))\n",
    "        else: # category      \n",
    "            x1 = onehot_encoder.fit_transform(x[:,i].reshape(-1,1))\n",
    "            x_new = np.hstack((x_new,x1))        \n",
    "\n",
    "    # drop the 2 initial column\n",
    "    x_new = x_new[:,2:]\n",
    "    \n",
    "    return x_new.astype(float)"
   ]
  },
  {
   "cell_type": "code",
   "execution_count": 5,
   "metadata": {},
   "outputs": [
    {
     "data": {
      "text/plain": [
       "array([[ 0.5,  1. ,  1. ,  1. ,  0. ,  0. ,  0.1,  1. ,  0. ,  0. ],\n",
       "       [ 0.6, -1. , -1. ,  0. ,  1. ,  0. ,  5.1,  0. ,  1. ,  0. ],\n",
       "       [ 1.2, -1. ,  1. ,  0. ,  0. ,  1. , 11. ,  0. ,  0. ,  1. ],\n",
       "       [ 1.5,  1. , -1. ,  0. ,  0. ,  1. , 21. ,  1. ,  0. ,  0. ],\n",
       "       [ 2.3,  1. ,  1. ,  0. ,  1. ,  0. ,  0.2,  0. ,  0. ,  1. ],\n",
       "       [ 0.6,  1. ,  1. ,  1. ,  0. ,  0. ,  1.3,  0. ,  0. ,  1. ]])"
      ]
     },
     "execution_count": 5,
     "metadata": {},
     "output_type": "execute_result"
    }
   ],
   "source": [
    "x_new = convert_binary_and_category(x,variable_type)\n",
    "x_new"
   ]
  },
  {
   "cell_type": "code",
   "execution_count": null,
   "metadata": {},
   "outputs": [],
   "source": []
  }
 ],
 "metadata": {
  "kernelspec": {
   "display_name": "Python 3",
   "language": "python",
   "name": "python3"
  },
  "language_info": {
   "codemirror_mode": {
    "name": "ipython",
    "version": 3
   },
   "file_extension": ".py",
   "mimetype": "text/x-python",
   "name": "python",
   "nbconvert_exporter": "python",
   "pygments_lexer": "ipython3",
   "version": "3.7.3"
  }
 },
 "nbformat": 4,
 "nbformat_minor": 2
}
