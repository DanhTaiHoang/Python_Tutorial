{
 "cells": [
  {
   "cell_type": "code",
   "execution_count": 7,
   "metadata": {},
   "outputs": [],
   "source": [
    "import numpy as np\n",
    "from numpy import pi"
   ]
  },
  {
   "cell_type": "code",
   "execution_count": 8,
   "metadata": {},
   "outputs": [
    {
     "name": "stdout",
     "output_type": "stream",
     "text": [
      "[11 12 13 14 15]\n",
      "<type 'numpy.ndarray'>\n",
      "[12 13]\n",
      "[12 13 14]\n",
      "[11 12 13]\n",
      "[14 15]\n",
      "[11 13 15]\n"
     ]
    }
   ],
   "source": [
    "a = np.array([11,12,13,14,15])\n",
    "print(a)\n",
    "print(type(a))\n",
    "\n",
    "print(a[1:3]) # element 2 and 3: 12, 13\n",
    "\n",
    "print(a[1:-1]) # 12,13,14\n",
    "\n",
    "# omitted boundaries are assumed to the the beginning (or end) of the list\n",
    "\n",
    "# grab first three elements\n",
    "print(a[:3])\n",
    "# grab last two elements\n",
    "print(a[-2:])\n",
    "# every other elements\n",
    "print(a[::2])"
   ]
  },
  {
   "cell_type": "code",
   "execution_count": 9,
   "metadata": {},
   "outputs": [
    {
     "name": "stdout",
     "output_type": "stream",
     "text": [
      "[ 1.          2.         -1.33333333]\n"
     ]
    }
   ],
   "source": [
    "# derivative\n",
    "x = np.array([0, 1, 1.5, 3])\n",
    "y = np.array([1, 2, 3, 1])\n",
    "\n",
    "dy = y[1:] - y[:-1]\n",
    "dx = x[1:] - x[:-1]\n",
    "\n",
    "dy_dx = dy/dx\n",
    "print(dy_dx)"
   ]
  },
  {
   "cell_type": "code",
   "execution_count": 10,
   "metadata": {},
   "outputs": [
    {
     "name": "stdout",
     "output_type": "stream",
     "text": [
      "[0.5  1.25 2.25]\n"
     ]
    }
   ],
   "source": [
    "# middle point\n",
    "center_x = (x[1:] + x[:-1])/2.\n",
    "print(center_x)"
   ]
  },
  {
   "cell_type": "code",
   "execution_count": 11,
   "metadata": {},
   "outputs": [
    {
     "name": "stdout",
     "output_type": "stream",
     "text": [
      "[0 1 2 3 4 5]\n",
      "[[0 1 2]\n",
      " [3 4 5]]\n",
      "5\n",
      "1\n",
      "[4 5]\n",
      "[[0]]\n",
      "(1, 1)\n",
      "[[  0   1 100]\n",
      " [  3   4 100]]\n"
     ]
    }
   ],
   "source": [
    "# multiple dimensions\n",
    "r = np.arange(6)\n",
    "print(r)\n",
    "\n",
    "r = r.reshape(2,3)  # 2 rows and 3 columns\n",
    "print(r)\n",
    "\n",
    "print(r[-1,-1])\n",
    "print(r[0,1])\n",
    "print(r[1,1:])\n",
    "print(r[:1,:1])\n",
    "\n",
    "print(r[:1,:1].shape)\n",
    "r[:,2] = 100\n",
    "print(r)"
   ]
  },
  {
   "cell_type": "code",
   "execution_count": 12,
   "metadata": {},
   "outputs": [
    {
     "name": "stdout",
     "output_type": "stream",
     "text": [
      "[[[ 0  1  2  3]\n",
      "  [ 4  5  6  7]]\n",
      "\n",
      " [[ 8  9 10 11]\n",
      "  [12 13 14 15]]\n",
      "\n",
      " [[16 17 18 19]\n",
      "  [20 21 22 23]]]\n"
     ]
    }
   ],
   "source": [
    "# 3 dimensions\n",
    "r = np.arange(24).reshape(3,2,4) # z, y, x (depth, row, column)\n",
    "print(r)\n"
   ]
  },
  {
   "cell_type": "code",
   "execution_count": 13,
   "metadata": {},
   "outputs": [
    {
     "name": "stdout",
     "output_type": "stream",
     "text": [
      "[1 2 3 4 5]\n",
      "[2 3]\n",
      "[100   3]\n",
      "[  1 100   3   4   5]\n",
      "[200   3]\n",
      "[  1 100   3   4   5]\n",
      "[  1. 100.   3.   4.   5.   0.   0.   0.   0.   0.]\n",
      "[ 10. 100.   3.   4.   5.   0.   0.   0.   0.   0.]\n",
      "[  1 100   3   4   5]\n"
     ]
    }
   ],
   "source": [
    "# copy and modify\n",
    "a = np.array([1,2,3,4,5])\n",
    "print(a)\n",
    "\n",
    "b = a[1:3]\n",
    "print(b)\n",
    "b[0] = 100\n",
    "print(b)\n",
    "print(a) # a is also changed as b\n",
    "\n",
    "c = a[1:3].copy() # a is not changed\n",
    "c[0]=200\n",
    "print(c)\n",
    "print(a)\n",
    "\n",
    "# add\n",
    "g = np.zeros(10)\n",
    "g[:len(a)] = a  # a is not changed\n",
    "print(g)\n",
    "\n",
    "g[0] = 10\n",
    "print(g)\n",
    "print(a)"
   ]
  },
  {
   "cell_type": "code",
   "execution_count": 23,
   "metadata": {},
   "outputs": [
    {
     "name": "stdout",
     "output_type": "stream",
     "text": [
      "[list([11, 12, 13, 14]) list([21, 22, 23, 24]) list([31, 32, 33, 34, 35])]\n",
      "<type 'numpy.ndarray'>\n",
      "(3,)\n",
      "[21, 22, 23, 24]\n",
      "[list([21, 22, 23, 24]) list([31, 32, 33, 34, 35])]\n",
      "([21, 22, 23, 24], [31, 32, 33, 34, 35])\n",
      "[]\n",
      "<type 'numpy.ndarray'>\n",
      "(0,)\n"
     ]
    }
   ],
   "source": [
    "# Fancy indexing\n",
    "\n",
    "a = np.array([[11,12,13,14],[21,22,23,24],[31,32,33,34,35]])\n",
    "print(a)\n",
    "print(type(a))\n",
    "print(a.shape)\n",
    "\n",
    "print(a[1])\n",
    "\n",
    "# 1) indexing by position\n",
    "indices = [1,2]\n",
    "c = a[indices]\n",
    "print(c)\n",
    "\n",
    "d = (a[1],a[2])\n",
    "print(d)\n",
    "\n",
    "# 2) indexing with booleans\n",
    "mask = a < 50\n",
    "b = a[mask]\n",
    "print(b)\n",
    "print(type(b))\n",
    "print(b.shape)\n",
    "\n",
    "# 3)\n",
    "#b = a[a % 2 ==0]\n",
    "#print(b)"
   ]
  },
  {
   "cell_type": "code",
   "execution_count": 24,
   "metadata": {},
   "outputs": [
    {
     "name": "stdout",
     "output_type": "stream",
     "text": [
      "[[0 1 2]\n",
      " [3 4 5]]\n",
      "15\n",
      "0\n",
      "2.5\n",
      "1.707825127659933\n",
      "5\n",
      "0\n",
      "0\n",
      "5\n",
      "(0, 0)\n",
      "(1, 2)\n",
      "[[0 1 2]\n",
      " [3 4 5]]\n",
      "[3 5 7]\n",
      "[ 3 12]\n",
      "[ 3 12]\n"
     ]
    }
   ],
   "source": [
    "# Calculation in numpy\n",
    "a = np.arange(6).reshape(2,3)\n",
    "print(a)\n",
    "\n",
    "print(a.sum())\n",
    "print(a.prod()) # product\n",
    "print(a.mean())\n",
    "print(a.std())\n",
    "print(a.max())\n",
    "print(a.min())\n",
    "\n",
    "print(a.argmin()) # linear dimension\n",
    "print(a.argmax()) # linear dimension\n",
    "print(np.unravel_index(a.argmin(),a.shape)) # correct dimension\n",
    "print(np.unravel_index(a.argmax(),a.shape)) # correct dimension\n",
    "\n",
    "# sum in each column/row\n",
    "print(a)\n",
    "print(a.sum(axis=0)) # for each column\n",
    "print(a.sum(axis=1)) # for each row\n",
    "print(a.sum(axis=-1)) # for each row"
   ]
  },
  {
   "cell_type": "code",
   "execution_count": 25,
   "metadata": {},
   "outputs": [
    {
     "name": "stdout",
     "output_type": "stream",
     "text": [
      "[[  1.  10. 100.]\n",
      " [  2.  20. 200.]]\n",
      "[[0. 0. 0.]\n",
      " [0. 0. 0.]]\n",
      "[[1. 1. 1.]\n",
      " [1. 1. 1.]]\n",
      "[[1. 1. 1.]\n",
      " [1. 1. 1.]]\n",
      "[0.   0.25 0.5  0.75 1.   1.25 1.5  1.75 2.  ]\n",
      "[0.         0.6981317  1.3962634  2.0943951  2.7925268  3.4906585\n",
      " 4.1887902  4.88692191 5.58505361 6.28318531]\n"
     ]
    }
   ],
   "source": [
    "# 2D\n",
    "a = np.array([[1.,10.,100],[2,20,200]])\n",
    "print(a)\n",
    "\n",
    "# zeros, ones, empty\n",
    "a = np.zeros((2,3))\n",
    "print(a)\n",
    "\n",
    "a = np.ones((2,3))\n",
    "print(a)\n",
    "\n",
    "b = np.empty((2,3)) # the initial input may vary\n",
    "print(b)\n",
    "\n",
    "# create an array\n",
    "a = np.linspace(0,2,9) # 9 numbers from 0 to 2\n",
    "print(a)\n",
    "\n",
    "a = np.linspace(0,2*pi,10)\n",
    "print(a)"
   ]
  },
  {
   "cell_type": "code",
   "execution_count": 26,
   "metadata": {},
   "outputs": [
    {
     "name": "stdout",
     "output_type": "stream",
     "text": [
      "[[1 2]\n",
      " [3 4]]\n",
      "[[1 5]\n",
      " [2 1]]\n",
      "[[ 1 10]\n",
      " [ 6  4]]\n",
      "[[ 5  7]\n",
      " [11 19]]\n"
     ]
    }
   ],
   "source": [
    "# Basic operations\n",
    "a = np.array([[1,2],[3,4]])\n",
    "print(a)\n",
    "b = np.array([[1,5],[2,1]])\n",
    "print(b)\n",
    "\n",
    "print(a*b) # elementwise product\n",
    "print(np.dot(a,b)) # matrix product"
   ]
  },
  {
   "cell_type": "code",
   "execution_count": 27,
   "metadata": {},
   "outputs": [
    {
     "name": "stdout",
     "output_type": "stream",
     "text": [
      "[[2 7]\n",
      " [5 5]]\n",
      "[[ 3  6]\n",
      " [ 9 12]]\n",
      "30\n",
      "3\n",
      "12\n",
      "[12 18]\n",
      "[ 9 21]\n",
      "[3 9]\n",
      "[[ 3  9]\n",
      " [ 9 21]]\n"
     ]
    }
   ],
   "source": [
    "# to modify an existing array rather than create a new one\n",
    "b +=a  # b = b + a\n",
    "print(b)\n",
    "\n",
    "a *=3   # a = a*3\n",
    "print(a)\n",
    "\n",
    "print(a.sum())\n",
    "print(a.min())\n",
    "print(a.max())\n",
    "print(a.sum(axis=0)) # sum of each column\n",
    "print(a.sum(axis=1)) # sum of each row\n",
    "print(a.min(axis=1)) # min of each row\n",
    "print(a.cumsum(axis=1)) # cumulative of each row"
   ]
  },
  {
   "cell_type": "code",
   "execution_count": 28,
   "metadata": {},
   "outputs": [
    {
     "name": "stdout",
     "output_type": "stream",
     "text": [
      "[0 1 2]\n",
      "[1.         2.71828183 7.3890561 ]\n",
      "[0.         1.         1.41421356]\n",
      "[0 1 2]\n",
      "[-1  2  3]\n",
      "[-1  3  5]\n"
     ]
    }
   ],
   "source": [
    "# Universal Functions\n",
    "a = np.array([0,1,2])\n",
    "print(a)\n",
    "print(np.exp(a))\n",
    "print(np.sqrt(a))\n",
    "\n",
    "b = np.array([-1, 2, 3])\n",
    "print(a)\n",
    "print(b)\n",
    "c = np.add(a,b) # = a + b?\n",
    "print(c)"
   ]
  },
  {
   "cell_type": "code",
   "execution_count": 29,
   "metadata": {},
   "outputs": [
    {
     "name": "stdout",
     "output_type": "stream",
     "text": [
      "[10 20 30 40 50 60 70]\n",
      "30\n",
      "[20 30 40]\n",
      "[-100   20 -100   40   50   60   70]\n",
      "[  70   60   50   40 -100   20 -100]\n"
     ]
    }
   ],
   "source": [
    "# Indexing, Slicing and Iterating\n",
    "# 1D\n",
    "\n",
    "a = np.array([10, 20, 30, 40, 50, 60, 70])\n",
    "print(a)\n",
    "\n",
    "print(a[2])\n",
    "print(a[1:4])\n",
    "a[:3:2] = -100 # equivalent to a[0:3:2]=-100;\n",
    "# set from index 0 to index 3, step = 2\n",
    "print(a)\n",
    "b = a[::-1] # reversed\n",
    "print(b)"
   ]
  },
  {
   "cell_type": "code",
   "execution_count": 30,
   "metadata": {},
   "outputs": [
    {
     "name": "stdout",
     "output_type": "stream",
     "text": [
      "[[ 10  20  30  40]\n",
      " [100 200 300 400]]\n",
      "300\n",
      "[ 30 300]\n",
      "[100 200 300 400]\n"
     ]
    }
   ],
   "source": [
    "# multiple dimensions\n",
    "a = np.array([[10,20,30,40],[100,200,300,400]])\n",
    "print(a)\n",
    "print(a[1,2])\n",
    "print(a[:,2])\n",
    "print(a[-1]) # the last row, equivalent to a[-1,:]"
   ]
  },
  {
   "cell_type": "code",
   "execution_count": 31,
   "metadata": {},
   "outputs": [
    {
     "name": "stdout",
     "output_type": "stream",
     "text": [
      "[[ 10  20  30  40]\n",
      " [100 200 300 400]]\n",
      "[10 20 30 40]\n",
      "[100 200 300 400]\n",
      "10\n",
      "20\n",
      "30\n",
      "40\n",
      "100\n",
      "200\n",
      "300\n",
      "400\n"
     ]
    }
   ],
   "source": [
    "# Iterating\n",
    "print(a)\n",
    "# each row\n",
    "for row in a:\n",
    "    print(row)\n",
    "# each element\n",
    "for element in a.flat:\n",
    "    print(element)"
   ]
  },
  {
   "cell_type": "code",
   "execution_count": 32,
   "metadata": {},
   "outputs": [
    {
     "name": "stdout",
     "output_type": "stream",
     "text": [
      "[[ 10  20  30  40]\n",
      " [100 200 300 400]]\n",
      "[ 10  20  30  40 100 200 300 400]\n",
      "[[ 10  20]\n",
      " [ 30  40]\n",
      " [100 200]\n",
      " [300 400]]\n",
      "[[ 10  20  30  40]\n",
      " [100 200 300 400]]\n",
      "[[ 10 100]\n",
      " [ 20 200]\n",
      " [ 30 300]\n",
      " [ 40 400]]\n",
      "[[ 10  20  30  40]\n",
      " [100 200 300 400]]\n",
      "[[ 10  20]\n",
      " [ 30  40]\n",
      " [100 200]\n",
      " [300 400]]\n"
     ]
    }
   ],
   "source": [
    "# Shape Manipulation\n",
    "a = np.array([[10,20,30,40],[100,200,300,400]])\n",
    "print(a)\n",
    "print(a.ravel()) # convert to 1D\n",
    "\n",
    "print(a.reshape(4,2))\n",
    "print(a) # it does not change the original one\n",
    "print(a.T) # transposed\n",
    "\n",
    "print(a)\n",
    "print(a.reshape(4,-1)) # -1 means other dimension is automatically calculated"
   ]
  },
  {
   "cell_type": "code",
   "execution_count": 33,
   "metadata": {},
   "outputs": [
    {
     "name": "stdout",
     "output_type": "stream",
     "text": [
      "[[ 10  20  30]\n",
      " [100 200 300]]\n",
      "[[0.1 0.2 0.3]\n",
      " [1.  2.  3. ]]\n",
      "[[1.e+01 2.e+01 3.e+01]\n",
      " [1.e+02 2.e+02 3.e+02]\n",
      " [1.e-01 2.e-01 3.e-01]\n",
      " [1.e+00 2.e+00 3.e+00]]\n",
      "(4, 3)\n",
      "[[1.e+01 2.e+01 3.e+01 1.e-01 2.e-01 3.e-01]\n",
      " [1.e+02 2.e+02 3.e+02 1.e+00 2.e+00 3.e+00]]\n",
      "(2, 6)\n"
     ]
    }
   ],
   "source": [
    "# Stacking together different arrays\n",
    "a = np.array([[10,20,30],[100,200,300]])\n",
    "b = np.array([[0.1,0.2,0.3],[1,2,3]])\n",
    "print(a)\n",
    "print(b)\n",
    "c = np.vstack((a,b)) # vertical stack\n",
    "print(c)\n",
    "print(c.shape)\n",
    "\n",
    "c = np.hstack((a,b)) # horizontal stack\n",
    "print(c)\n",
    "print(c.shape)"
   ]
  },
  {
   "cell_type": "code",
   "execution_count": 34,
   "metadata": {},
   "outputs": [
    {
     "name": "stdout",
     "output_type": "stream",
     "text": [
      "[[10.  20. ]\n",
      " [ 0.1  0.2]]\n",
      "[100 200]\n",
      "[[1.e+01 2.e+01 1.e+02]\n",
      " [1.e-01 2.e-01 2.e+02]]\n",
      "[[1.e+01 2.e+01]\n",
      " [1.e-01 2.e-01]\n",
      " [1.e+02 2.e+02]]\n"
     ]
    }
   ],
   "source": [
    "# stack 1D arrays as columns into a 2D array\n",
    "a = np.array([[10,20],[0.1,0.2]])\n",
    "b = np.array([100,200])\n",
    "print(a)\n",
    "print(b)\n",
    "c = np.column_stack((a,b))\n",
    "print(c)\n",
    "\n",
    "c = np.row_stack((a,b))\n",
    "print(c)"
   ]
  },
  {
   "cell_type": "code",
   "execution_count": 35,
   "metadata": {},
   "outputs": [
    {
     "name": "stdout",
     "output_type": "stream",
     "text": [
      "[[ 10  20  30  40  50  60]\n",
      " [100 200 300 400 500 600]]\n",
      "[array([[ 10,  20],\n",
      "       [100, 200]]), array([[ 30,  40],\n",
      "       [300, 400]]), array([[ 50,  60],\n",
      "       [500, 600]])]\n",
      "[array([[ 10],\n",
      "       [100]]), array([[ 20,  30],\n",
      "       [200, 300]]), array([[ 40,  50,  60],\n",
      "       [400, 500, 600]])]\n",
      "[[ 10  20  30  40  50  60]\n",
      " [100 200 300 400 500 600]]\n",
      "[array([[10, 20, 30, 40, 50, 60]]), array([[100, 200, 300, 400, 500, 600]])]\n"
     ]
    }
   ],
   "source": [
    "# Splitting one array into several smaller ones\n",
    "a = np.array([[10,20,30,40,50,60],[100,200,300,400,500,600]])\n",
    "print(a)\n",
    "print(np.hsplit(a,3)) # split into 3, horizonal axis\n",
    "print(np.hsplit(a,(1,3))) # split between the 2nd and the 3rd column\n",
    "\n",
    "print(a)\n",
    "print(np.vsplit(a,2)) # split into 2, vertical axis"
   ]
  },
  {
   "cell_type": "code",
   "execution_count": 36,
   "metadata": {},
   "outputs": [
    {
     "name": "stdout",
     "output_type": "stream",
     "text": [
      "[[ 10  20  30]\n",
      " [100 200 300]]\n",
      "(3, 2)\n"
     ]
    }
   ],
   "source": [
    "# Copies and views\n",
    "# 1) No copies at all\n",
    "a = np.array([[10,20,30],[100,200,300]])\n",
    "print(a)\n",
    "\n",
    "b = a # no new object is created, b and a are two names for the same array\n",
    "b.shape = 3,2\n",
    "print(a.shape)  # a change as b change\n"
   ]
  },
  {
   "cell_type": "code",
   "execution_count": 37,
   "metadata": {},
   "outputs": [
    {
     "name": "stdout",
     "output_type": "stream",
     "text": [
      "[[ 10  20  30]\n",
      " [100 200 300]]\n",
      "(2, 3)\n",
      "[[  10 1000   30]\n",
      " [ 100  200  300]]\n",
      "[[  10 1000   30]\n",
      " [ 100  200  300]]\n"
     ]
    }
   ],
   "source": [
    "# 2) View or Shallow Copy\n",
    "a = np.array([[10,20,30],[100,200,300]])\n",
    "print(a)\n",
    "\n",
    "c = a.view() # share the same data, but the shape of two array can be different\n",
    "\n",
    "print(c.shape)\n",
    "c[0,1]= 1000\n",
    "print(c)\n",
    "print(a)"
   ]
  },
  {
   "cell_type": "code",
   "execution_count": 38,
   "metadata": {},
   "outputs": [
    {
     "name": "stdout",
     "output_type": "stream",
     "text": [
      "[[  10 1000   30]\n",
      " [ 100  200  300]]\n",
      "[[  10 1000]\n",
      " [ 100  200]]\n",
      "[[  10 1000]\n",
      " [2000 2000]]\n",
      "[[  10 1000   30]\n",
      " [2000 2000  300]]\n"
     ]
    }
   ],
   "source": [
    "# Slicing an array return a view of it:\n",
    "print(a)\n",
    "c = a[:,0:2]\n",
    "print(c)\n",
    "c[1,:]=2000\n",
    "print(c)\n",
    "print(a)"
   ]
  },
  {
   "cell_type": "code",
   "execution_count": 39,
   "metadata": {},
   "outputs": [
    {
     "name": "stdout",
     "output_type": "stream",
     "text": [
      "[[ 10  20  30]\n",
      " [100 200 300]]\n",
      "[[ 10  20  30]\n",
      " [100   0 300]]\n",
      "[[ 10  20  30]\n",
      " [100 200 300]]\n"
     ]
    }
   ],
   "source": [
    "# 3) Deep copy\n",
    "a = np.array([[10,20,30],[100,200,300]])\n",
    "print(a)\n",
    "b = a.copy()\n",
    "\n",
    "b[1,1] = 0\n",
    "print(b)\n",
    "print(a)"
   ]
  },
  {
   "cell_type": "code",
   "execution_count": 40,
   "metadata": {},
   "outputs": [
    {
     "name": "stdout",
     "output_type": "stream",
     "text": [
      "[[ 10  20  30]\n",
      " [100 200 300]]\n",
      "[ 30 100 200 300]\n",
      "[ 30 100]\n",
      "[1 2]\n",
      "[2]\n",
      "[4 3]\n",
      "[[[1]]\n",
      "\n",
      " [[2]]]\n",
      "[[[2]]]\n",
      "[[[4 3]]]\n",
      "(2, 1, 1)\n",
      "(1, 1, 1)\n",
      "(1, 1, 2)\n",
      "[[[ 9  7]]\n",
      "\n",
      " [[10  8]]]\n",
      "7\n",
      "7\n"
     ]
    }
   ],
   "source": [
    "# Index\n",
    "a = np.array([[10,20,30],[100,200,300]])\n",
    "print(a)\n",
    "\n",
    "b = a[a>20]\n",
    "print(b)\n",
    "\n",
    "# another way:\n",
    "b = (a > 20) & (a <200)\n",
    "c = a[b]\n",
    "print(c)\n",
    "\n",
    "# The ix_() function\n",
    "a = np.array([1,2])\n",
    "b = np.array([2])\n",
    "c = np.array([4,3])\n",
    "print(a)\n",
    "print(b)\n",
    "print(c)\n",
    "\n",
    "ax,bx,cx = np.ix_(a,b,c)\n",
    "print(ax)\n",
    "print(bx)\n",
    "print(cx)\n",
    "\n",
    "print(ax.shape)\n",
    "print(bx.shape)\n",
    "print(cx.shape)\n",
    "\n",
    "result = ax + bx*cx\n",
    "print(result)\n",
    "print(result[0,0,1])\n",
    "print(a[0] + b[0]*c[1])"
   ]
  },
  {
   "cell_type": "code",
   "execution_count": 41,
   "metadata": {},
   "outputs": [
    {
     "name": "stdout",
     "output_type": "stream",
     "text": [
      "[[1. 2.]\n",
      " [3. 4.]]\n",
      "[[1. 3.]\n",
      " [2. 4.]]\n",
      "[[-2.   1. ]\n",
      " [ 1.5 -0.5]]\n",
      "[[1. 0.]\n",
      " [0. 1.]]\n",
      "[[1. 2.]\n",
      " [3. 4.]]\n",
      "[[5.]\n",
      " [7.]]\n",
      "[[-3.]\n",
      " [ 4.]]\n"
     ]
    }
   ],
   "source": [
    "# Linear Algebra\n",
    "a = np.array([[1.,2.],[3.,4.]])\n",
    "print(a)\n",
    "\n",
    "b = a.transpose() # transpose matrix\n",
    "print(b)\n",
    "\n",
    "b = np.linalg.inv(a) # inverse matrix\n",
    "print(b)\n",
    "\n",
    "u = np.eye(2)   # unit 2x2 matrix; \"eye\" represents \"I\"\n",
    "print(u)\n",
    "\n",
    "print(a)\n",
    "y = np.array([[5.],[7.]])\n",
    "print(y)\n",
    "b = np.linalg.solve(a, y)  # b = y/a\n",
    "print(b)"
   ]
  },
  {
   "cell_type": "code",
   "execution_count": 42,
   "metadata": {},
   "outputs": [
    {
     "name": "stdout",
     "output_type": "stream",
     "text": [
      "[[ 10  20  30]\n",
      " [100 200 300]]\n",
      "[[0.1 0.2 0.3]\n",
      " [1.  2.  3. ]]\n",
      "[[1.e+01 2.e+01 3.e+01]\n",
      " [1.e+02 2.e+02 3.e+02]\n",
      " [1.e-01 2.e-01 3.e-01]\n",
      " [1.e+00 2.e+00 3.e+00]]\n",
      "(4, 3)\n",
      "[[1.e+01 2.e+01 3.e+01 1.e-01 2.e-01 3.e-01]\n",
      " [1.e+02 2.e+02 3.e+02 1.e+00 2.e+00 3.e+00]]\n",
      "(2, 6)\n"
     ]
    }
   ],
   "source": [
    "# Stacking together different arrays\n",
    "a = np.array([[10,20,30],[100,200,300]])\n",
    "b = np.array([[0.1,0.2,0.3],[1,2,3]])\n",
    "print(a)\n",
    "print(b)\n",
    "c = np.vstack((a,b)) # vertical stack\n",
    "print(c)\n",
    "print(c.shape)\n",
    "\n",
    "c = np.hstack((a,b)) # horizontal stack\n",
    "print(c)\n",
    "print(c.shape)"
   ]
  },
  {
   "cell_type": "code",
   "execution_count": 43,
   "metadata": {},
   "outputs": [
    {
     "name": "stdout",
     "output_type": "stream",
     "text": [
      "[ 2.  4.  6.  8. 10. 12. 14. 16. 18. 20.]\n",
      "[2.0, 4.0, 6.0, 8.0, 10.0, 12.0, 14.0, 16.0, 18.0, 20.0]\n",
      "[0 1 2]\n",
      "[0. 1. 2.]\n",
      "[2 3 4 5 6 7]\n",
      "[2 4 6]\n",
      "[-5 -2  1  4  7]\n"
     ]
    }
   ],
   "source": [
    "# linear list\n",
    "a = np.linspace(2,20,10)\n",
    "print(a)\n",
    "\n",
    "a = a.tolist()\n",
    "print(a)\n",
    "\n",
    "#=========================================================\n",
    "\n",
    "a = np.arange(3)\n",
    "print(a)\n",
    "\n",
    "a = np.arange(3.0)\n",
    "print(a) #[0.,1.,2.]\n",
    "\n",
    "a = np.arange(2,8)\n",
    "print(a) # [2, 3, 4, 5, 6, 7]\n",
    "\n",
    "a = np.arange(2,8,2)\n",
    "print(a) # [2, 4, 6]\n",
    "\n",
    "a = np.arange(-5,8,3)\n",
    "print(a) # [-5, -2, 1, 4, 7]"
   ]
  },
  {
   "cell_type": "code",
   "execution_count": 45,
   "metadata": {},
   "outputs": [
    {
     "name": "stdout",
     "output_type": "stream",
     "text": [
      "[[ 1. 10.]\n",
      " [ 2. 20.]\n",
      " [ 3. 30.]\n",
      " [ 4. 40.]\n",
      " [ 5. 50.]\n",
      " [ 6. 60.]]\n",
      "6\n",
      "3\n",
      "[2, 5]\n",
      "[[ 1. 10.]\n",
      " [ 2. 20.]\n",
      " [ 4. 40.]\n",
      " [ 5. 50.]]\n",
      "\n",
      "\n",
      "\n",
      "\n",
      "[0, 3]\n",
      "[[ 2. 20.]\n",
      " [ 3. 30.]\n",
      " [ 5. 50.]\n",
      " [ 6. 60.]]\n"
     ]
    }
   ],
   "source": [
    "# del rows of matrix\n",
    "nens=2\n",
    "\n",
    "S01 = np.array([[1,10.], [2.,20.], [3.,30.], [4.,40.],[5.,50.],[6.,60.]])\n",
    "print(S01)\n",
    "\n",
    "L0 = S01.shape[0]\n",
    "print(L0)\n",
    "\n",
    "L01=L0/nens\n",
    "print(L01)\n",
    "\n",
    "rows_del = [i for i in range(L0) if (i+1)%L01==0]\n",
    "print(rows_del)\n",
    "S = np.delete(S01,rows_del,axis=0)\n",
    "print(S)\n",
    "print('\\n'*3)\n",
    "rows_del = [i for i in range(L0) if (i+1)%L01==1]\n",
    "print(rows_del)\n",
    "S1 =np.delete(S01,rows_del,axis=0)\n",
    "print(S1)"
   ]
  },
  {
   "cell_type": "code",
   "execution_count": 46,
   "metadata": {},
   "outputs": [
    {
     "name": "stdout",
     "output_type": "stream",
     "text": [
      "[[11. 12.]\n",
      " [21. 22.]]\n",
      "[[1.1 1.2]\n",
      " [2.1 2.2]]\n",
      "[-0.1 -0.2]\n",
      "[[-1.1 -2.4]\n",
      " [-2.1 -4.4]]\n",
      "[[-1.1 -2.4]\n",
      " [-2.1 -4.4]]\n",
      "[[-1.1 -2.4]\n",
      " [-2.1 -4.4]]\n",
      "[[11. 12.]\n",
      " [21. 22.]\n",
      " [31. 32.]]\n",
      "[[1.e-01 2.e-01]\n",
      " [1.e+02 2.e+02]]\n",
      "[[1.1e+00 1.2e+03]\n",
      " [2.1e+00 2.2e+03]\n",
      " [3.1e+00 3.2e+03]]\n",
      "[[1.1e+00 1.2e+03]\n",
      " [2.1e+00 2.2e+03]\n",
      " [3.1e+00 3.2e+03]]\n"
     ]
    }
   ],
   "source": [
    "# multiplication of matrix elements\n",
    "a = np.array([[11,12.], [21.,22.]])\n",
    "print(a)\n",
    "\n",
    "b = np.array([[1.1,1.2],[2.1,2.2]])\n",
    "print(b)\n",
    "\n",
    "c = 1-b[0,:]\n",
    "print(c)\n",
    "\n",
    "\n",
    "#c = np.reshape(c,(2,1))\n",
    "\n",
    "#print(c)\n",
    "\n",
    "d = a*c\n",
    "print(d)\n",
    "\n",
    "d2 = np.multiply(a,c) \n",
    "print(d2)\n",
    "\n",
    "d3 = np.multiply(c,a) \n",
    "print(d3)\n",
    "\n",
    "#===============================================================================\n",
    "a = np.array([[11,12.], [21.,22.],[31,32]])\n",
    "print(a)\n",
    "\n",
    "b = np.array([[0.1,0.2],[100,200]])\n",
    "print(b)\n",
    "\n",
    "#c = a*b\n",
    "c = np.multiply(a,b[:,0])\n",
    "print(c)\n",
    "print(a*b[:,0])"
   ]
  },
  {
   "cell_type": "code",
   "execution_count": null,
   "metadata": {},
   "outputs": [],
   "source": []
  }
 ],
 "metadata": {
  "kernelspec": {
   "display_name": "Python 2",
   "language": "python",
   "name": "python2"
  },
  "language_info": {
   "codemirror_mode": {
    "name": "ipython",
    "version": 2
   },
   "file_extension": ".py",
   "mimetype": "text/x-python",
   "name": "python",
   "nbconvert_exporter": "python",
   "pygments_lexer": "ipython2",
   "version": "2.7.14"
  }
 },
 "nbformat": 4,
 "nbformat_minor": 2
}
