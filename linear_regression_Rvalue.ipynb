{
 "cells": [
  {
   "cell_type": "code",
   "execution_count": 3,
   "metadata": {},
   "outputs": [],
   "source": [
    "import numpy as np\n",
    "import matplotlib.pyplot as plt\n",
    "from scipy import stats"
   ]
  },
  {
   "cell_type": "code",
   "execution_count": 4,
   "metadata": {},
   "outputs": [
    {
     "name": "stdout",
     "output_type": "stream",
     "text": [
      "[[0.12583969 0.47217556 0.89449712 0.73134618]\n",
      " [0.29768367 0.26034219 0.68927593 0.91434248]\n",
      " [0.92356582 0.61600927 0.51477442 0.67671286]\n",
      " [0.90773786 0.87910228 0.17943669 0.02525393]]\n"
     ]
    }
   ],
   "source": [
    "x = [5.05, 6.75, 3.21, 2.66]\n",
    "y = [1.65, 26.5, -5.93, 7.96]\n",
    "slope, intercept, r_value, p_value, std_err = stats.linregress(x,y)\n",
    "\n",
    "a = np.random.rand(4,4)\n",
    "b = np.random.rand(4,4)\n",
    "\n",
    "#a1 = a.reshape(16,1)\n",
    "R = stats.linregress(a.flatten(),b.flatten())[2]\n",
    "\n",
    "print(a)"
   ]
  }
 ],
 "metadata": {
  "kernelspec": {
   "display_name": "Python 2",
   "language": "python",
   "name": "python2"
  },
  "language_info": {
   "codemirror_mode": {
    "name": "ipython",
    "version": 2
   },
   "file_extension": ".py",
   "mimetype": "text/x-python",
   "name": "python",
   "nbconvert_exporter": "python",
   "pygments_lexer": "ipython2",
   "version": "2.7.14"
  }
 },
 "nbformat": 4,
 "nbformat_minor": 2
}
