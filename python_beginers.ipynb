{
 "cells": [
  {
   "cell_type": "code",
   "execution_count": 5,
   "metadata": {},
   "outputs": [],
   "source": [
    "import numpy as np"
   ]
  },
  {
   "cell_type": "code",
   "execution_count": 6,
   "metadata": {},
   "outputs": [
    {
     "name": "stdout",
     "output_type": "stream",
     "text": [
      "1\n",
      "2\n",
      "3\n",
      "4\n",
      "5\n",
      "stop here\n"
     ]
    }
   ],
   "source": [
    "# break\n",
    "i=0\n",
    "while i < 50:\n",
    "   i=i+1\n",
    "   print i\n",
    "   if (i % 5)==0 :\n",
    "      print('stop here')\n",
    "      break"
   ]
  },
  {
   "cell_type": "code",
   "execution_count": 7,
   "metadata": {},
   "outputs": [
    {
     "name": "stdout",
     "output_type": "stream",
     "text": [
      "W_20.00_0.5.dat\n"
     ]
    }
   ],
   "source": [
    "# file name\n",
    "L=20\n",
    "g=0.5\n",
    "\n",
    "file_out = 'W_%.02f_%.01f.dat'%(L,g)\n",
    "W_out = open(file_out,'w')\n",
    "\n",
    "print(file_out)\n",
    "W_out.write(\"%f %f \\n\" % (g,L))"
   ]
  },
  {
   "cell_type": "code",
   "execution_count": 8,
   "metadata": {},
   "outputs": [],
   "source": [
    "# file name extension:\n",
    "Nh = 2\n",
    "\n",
    "ext_name = '%02d.dat'%Nh\n",
    "run_time = 1000\n",
    "file_name = 'Wtest'+ext_name\n",
    "np.savetxt('Wtest_%s'%ext_name,(run_time,run_time/86400.,run_time/3600.,run_time/60.),fmt='% 8.3f')"
   ]
  },
  {
   "cell_type": "code",
   "execution_count": 9,
   "metadata": {},
   "outputs": [
    {
     "name": "stdout",
     "output_type": "stream",
     "text": [
      "a>5 6\n",
      "out of if\n"
     ]
    }
   ],
   "source": [
    "# if\n",
    "a=6\n",
    "if a>5:\n",
    "   print \"a>5\",a\n",
    "else :\n",
    "   print \"a<5\",a\n",
    "   print \"2+2=\",2+2\n",
    "   print \"in of if\" \n",
    "   \n",
    "print \"out of if\"   "
   ]
  },
  {
   "cell_type": "code",
   "execution_count": 11,
   "metadata": {},
   "outputs": [
    {
     "name": "stdout",
     "output_type": "stream",
     "text": [
      "[21 22 23]\n"
     ]
    }
   ],
   "source": [
    "# if any and all\n",
    "x = np.array([11,0,13])\n",
    "y = np.array([21,22,23])\n",
    "\n",
    "#if x.any() != 0 :\n",
    "if x.all() != 0 :\n",
    "    y = y/x\n",
    "\n",
    "print(y)"
   ]
  },
  {
   "cell_type": "code",
   "execution_count": 12,
   "metadata": {},
   "outputs": [
    {
     "name": "stdout",
     "output_type": "stream",
     "text": [
      "NO\n",
      "no, dont generate\n"
     ]
    }
   ],
   "source": [
    "# if then letter\n",
    "generate = 'NO'\n",
    "print(generate)\n",
    "\n",
    "if generate =='YES':\n",
    "   print('yes, generate')\n",
    "else:\n",
    "   print('no, dont generate')"
   ]
  },
  {
   "cell_type": "code",
   "execution_count": 13,
   "metadata": {},
   "outputs": [
    {
     "name": "stdout",
     "output_type": "stream",
     "text": [
      "What is your name?tai\n",
      "tai\n",
      "Hello tai! \n",
      "How are you today?\n",
      "What is your favorite animal?elephan\n",
      "Name a famous buiding: 12\n",
      "What is your favorite color?red\n",
      "The red elephan ran up the 12\n"
     ]
    }
   ],
   "source": [
    "print(\"Hello World\")\n",
    "name=raw_input(\"What is your name?\")\n",
    "print(name)\n",
    "print(\"Hello \" + name + \"! \\nHow are you today?\")\n",
    "\n",
    "#3) \n",
    "animal =  raw_input(\"What is your favorite animal?\")\n",
    "building = raw_input(\"Name a famous buiding: \")\n",
    "color = raw_input(\"What is your favorite color?\")\n",
    "print(\"The \" + color + \" \" + animal + \" ran up the \" + building)"
   ]
  },
  {
   "cell_type": "code",
   "execution_count": null,
   "metadata": {},
   "outputs": [],
   "source": []
  }
 ],
 "metadata": {
  "kernelspec": {
   "display_name": "Python 2",
   "language": "python",
   "name": "python2"
  },
  "language_info": {
   "codemirror_mode": {
    "name": "ipython",
    "version": 2
   },
   "file_extension": ".py",
   "mimetype": "text/x-python",
   "name": "python",
   "nbconvert_exporter": "python",
   "pygments_lexer": "ipython2",
   "version": "2.7.14"
  }
 },
 "nbformat": 4,
 "nbformat_minor": 2
}
