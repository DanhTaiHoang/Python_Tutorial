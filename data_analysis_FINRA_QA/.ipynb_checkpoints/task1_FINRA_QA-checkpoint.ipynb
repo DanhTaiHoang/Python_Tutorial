{
 "cells": [
  {
   "cell_type": "markdown",
   "metadata": {},
   "source": [
    "# FINRA Surveillance Business Analyst Pre-Screening Tasks"
   ]
  },
  {
   "cell_type": "markdown",
   "metadata": {},
   "source": [
    "Import the necessary packages to the jupyter notebook."
   ]
  },
  {
   "cell_type": "code",
   "execution_count": 1,
   "metadata": {},
   "outputs": [],
   "source": [
    "import pandas as pd\n",
    "import numpy as np\n",
    "\n",
    "import matplotlib.pyplot as plt\n",
    "%matplotlib inline"
   ]
  },
  {
   "cell_type": "markdown",
   "metadata": {},
   "source": [
    "Create a sample data."
   ]
  },
  {
   "cell_type": "code",
   "execution_count": 2,
   "metadata": {},
   "outputs": [
    {
     "data": {
      "text/html": [
       "<div>\n",
       "<style scoped>\n",
       "    .dataframe tbody tr th:only-of-type {\n",
       "        vertical-align: middle;\n",
       "    }\n",
       "\n",
       "    .dataframe tbody tr th {\n",
       "        vertical-align: top;\n",
       "    }\n",
       "\n",
       "    .dataframe thead th {\n",
       "        text-align: right;\n",
       "    }\n",
       "</style>\n",
       "<table border=\"1\" class=\"dataframe\">\n",
       "  <thead>\n",
       "    <tr style=\"text-align: right;\">\n",
       "      <th></th>\n",
       "      <th>DATE</th>\n",
       "      <th>FIRM</th>\n",
       "      <th>SYMBOL</th>\n",
       "      <th>SIDE</th>\n",
       "      <th>QUANTITY</th>\n",
       "      <th>PRICE</th>\n",
       "    </tr>\n",
       "  </thead>\n",
       "  <tbody>\n",
       "    <tr>\n",
       "      <th>0</th>\n",
       "      <td>2/3/2014</td>\n",
       "      <td>1ABC</td>\n",
       "      <td>A123</td>\n",
       "      <td>B</td>\n",
       "      <td>200</td>\n",
       "      <td>41</td>\n",
       "    </tr>\n",
       "    <tr>\n",
       "      <th>1</th>\n",
       "      <td>2/4/2014</td>\n",
       "      <td>2BCD</td>\n",
       "      <td>B234</td>\n",
       "      <td>B</td>\n",
       "      <td>600</td>\n",
       "      <td>60</td>\n",
       "    </tr>\n",
       "    <tr>\n",
       "      <th>2</th>\n",
       "      <td>2/7/2014</td>\n",
       "      <td>1ABC</td>\n",
       "      <td>C345</td>\n",
       "      <td>S</td>\n",
       "      <td>600</td>\n",
       "      <td>70</td>\n",
       "    </tr>\n",
       "    <tr>\n",
       "      <th>3</th>\n",
       "      <td>2/10/2014</td>\n",
       "      <td>3CDE</td>\n",
       "      <td>C345</td>\n",
       "      <td>S</td>\n",
       "      <td>600</td>\n",
       "      <td>70</td>\n",
       "    </tr>\n",
       "    <tr>\n",
       "      <th>4</th>\n",
       "      <td>2/12/2014</td>\n",
       "      <td>4DEF</td>\n",
       "      <td>B234</td>\n",
       "      <td>B</td>\n",
       "      <td>200</td>\n",
       "      <td>62</td>\n",
       "    </tr>\n",
       "    <tr>\n",
       "      <th>5</th>\n",
       "      <td>2/14/2014</td>\n",
       "      <td>3CDE</td>\n",
       "      <td>B234</td>\n",
       "      <td>B</td>\n",
       "      <td>300</td>\n",
       "      <td>61</td>\n",
       "    </tr>\n",
       "    <tr>\n",
       "      <th>6</th>\n",
       "      <td>2/21/2014</td>\n",
       "      <td>1ABC</td>\n",
       "      <td>A123</td>\n",
       "      <td>B</td>\n",
       "      <td>300</td>\n",
       "      <td>40</td>\n",
       "    </tr>\n",
       "    <tr>\n",
       "      <th>7</th>\n",
       "      <td>2/24/2014</td>\n",
       "      <td>1ABC</td>\n",
       "      <td>A123</td>\n",
       "      <td>S</td>\n",
       "      <td>300</td>\n",
       "      <td>30</td>\n",
       "    </tr>\n",
       "    <tr>\n",
       "      <th>8</th>\n",
       "      <td>2/25/2014</td>\n",
       "      <td>4DEF</td>\n",
       "      <td>C345</td>\n",
       "      <td>B</td>\n",
       "      <td>2100</td>\n",
       "      <td>71</td>\n",
       "    </tr>\n",
       "    <tr>\n",
       "      <th>9</th>\n",
       "      <td>2/27/2014</td>\n",
       "      <td>CDE</td>\n",
       "      <td>B234</td>\n",
       "      <td>S</td>\n",
       "      <td>1100</td>\n",
       "      <td>63</td>\n",
       "    </tr>\n",
       "  </tbody>\n",
       "</table>\n",
       "</div>"
      ],
      "text/plain": [
       "        DATE  FIRM SYMBOL SIDE  QUANTITY  PRICE\n",
       "0   2/3/2014  1ABC   A123    B       200     41\n",
       "1   2/4/2014  2BCD   B234    B       600     60\n",
       "2   2/7/2014  1ABC   C345    S       600     70\n",
       "3  2/10/2014  3CDE   C345    S       600     70\n",
       "4  2/12/2014  4DEF   B234    B       200     62\n",
       "5  2/14/2014  3CDE   B234    B       300     61\n",
       "6  2/21/2014  1ABC   A123    B       300     40\n",
       "7  2/24/2014  1ABC   A123    S       300     30\n",
       "8  2/25/2014  4DEF   C345    B      2100     71\n",
       "9  2/27/2014   CDE   B234    S      1100     63"
      ]
     },
     "execution_count": 2,
     "metadata": {},
     "output_type": "execute_result"
    }
   ],
   "source": [
    "data = {'DATE':['2/3/2014', '2/4/2014', '2/7/2014', '2/10/2014',\n",
    "                '2/12/2014','2/14/2014','2/21/2014',\n",
    "                '2/24/2014','2/25/2014','2/27/2014'],\n",
    "        'FIRM':['1ABC', '2BCD', '1ABC', '3CDE','4DEF',\n",
    "                '3CDE','1ABC','1ABC','4DEF','CDE'],       \n",
    "        'SYMBOL':['A123','B234','C345','C345','B234',\n",
    "                  'B234','A123','A123','C345','B234'],\n",
    "        'SIDE':['B','B','S','S','B','B','B','S','B','S'],\n",
    "        'QUANTITY': [200,600,600,600,200,300,300,300,2100,1100],\n",
    "       'PRICE': [41,60,70,70,62,61,40,30,71,63]}\n",
    "\n",
    "df = pd.DataFrame(data)\n",
    "df"
   ]
  },
  {
   "cell_type": "markdown",
   "metadata": {},
   "source": [
    "### Question 1. Based on the data in the table above, please draft a paragraph that describes your data observations and description of what is going on in the market during February 2014."
   ]
  },
  {
   "cell_type": "markdown",
   "metadata": {},
   "source": [
    "We firstly plot the histogram of transactions for each firm and each symbol."
   ]
  },
  {
   "cell_type": "code",
   "execution_count": 3,
   "metadata": {
    "scrolled": true
   },
   "outputs": [
    {
     "data": {
      "image/png": "[encoded data removed]",
      "text/plain": [
       "<Figure size 792x216 with 3 Axes>"
      ]
     },
     "metadata": {
      "needs_background": "light"
     },
     "output_type": "display_data"
    }
   ],
   "source": [
    "fig, ax = plt.subplots(1, 3,figsize=(11,3))\n",
    "\n",
    "firms,counts = np.unique(df['FIRM'],return_counts=True)\n",
    "ax[0].bar(firms, counts)\n",
    "ax[0].set_title('#transactions of each firm')\n",
    "ax[0].set_xlabel('firm')\n",
    "ax[0].set_xticks([0,1,2,3,4])\n",
    "\n",
    "firms,counts = np.unique(df['SYMBOL'],return_counts=True)\n",
    "ax[1].bar(firms, counts)\n",
    "ax[1].set_title('#transactions of each symbol')\n",
    "ax[1].set_xlabel('symbol')\n",
    "\n",
    "firms,counts = np.unique(df['SIDE'],return_counts=True)\n",
    "ax[2].bar(firms, counts)\n",
    "ax[2].set_title('Buy vs. Sell')\n",
    "ax[2].set_xlabel('side')\n",
    "\n",
    "for i in range(3):\n",
    "    ax[i].grid(axis='y',ls='--')\n",
    "    ax[i].set_ylabel('Histogram')\n",
    "\n",
    "fig.tight_layout(h_pad=1, w_pad=1.5)"
   ]
  },
  {
   "cell_type": "markdown",
   "metadata": {},
   "source": [
    "From the histogram graphs, we can conclude that\n",
    "\n",
    "1) There were 5 firms (1ABC, 2BCD, 3CDE, 4DEF, CDE) that made 10 transactions in total. 1ABC was the firm that trade most frequently (with 4 transactions). 2BCD and CDE are the firms that traded only 1 transaction. 3CDE and 4DEF equally made 2 transactions.\n",
    "\n",
    "2) 3 symbols were made, including A123, B234 and C345.\n",
    "\n",
    "3) 10 transactions were made in total, including 6 buys and 4 sells."
   ]
  },
  {
   "cell_type": "markdown",
   "metadata": {},
   "source": [
    "We explore the data in more details by plotting the histogram of quantity and price."
   ]
  },
  {
   "cell_type": "code",
   "execution_count": 4,
   "metadata": {
    "scrolled": false
   },
   "outputs": [
    {
     "data": {
      "image/png": "[encoded data removed]",
      "text/plain": [
       "<Figure size 576x216 with 2 Axes>"
      ]
     },
     "metadata": {
      "needs_background": "light"
     },
     "output_type": "display_data"
    }
   ],
   "source": [
    "fig, ax = plt.subplots(1, 2,figsize=(8,3))\n",
    "\n",
    "q = df['QUANTITY']\n",
    "bins = np.linspace(min(q), max(q),8)\n",
    "ax[0].hist(q,bins,histtype='bar',rwidth=0.8)\n",
    "ax[0].grid(axis='y',ls='--')\n",
    "ax[0].set_xlabel('Quantity')\n",
    "ax[0].set_ylabel('Histogram')\n",
    "\n",
    "p = df['PRICE']\n",
    "bins = np.linspace(min(p), max(p),8)\n",
    "ax[1].hist(p,bins,histtype='bar',rwidth=0.8)\n",
    "ax[1].grid(axis='y',ls='--')\n",
    "ax[1].set_xlabel('Price per share')\n",
    "ax[1].set_ylabel('Histogram')\n",
    "\n",
    "fig.tight_layout(h_pad=1, w_pad=1.5)"
   ]
  },
  {
   "cell_type": "markdown",
   "metadata": {},
   "source": [
    "The quantity distributed as a Posion function. The quantity of 200-300 was traded most frequently.\n",
    "The price per share of 60-70 was mostly selected to trade."
   ]
  },
  {
   "cell_type": "markdown",
   "metadata": {},
   "source": [
    "Calculate the total dollar volume of each side."
   ]
  },
  {
   "cell_type": "code",
   "execution_count": 5,
   "metadata": {
    "scrolled": true
   },
   "outputs": [
    {
     "name": "stdout",
     "output_type": "stream",
     "text": [
      "Total buy: 236000\n",
      "Total sell: 162300\n"
     ]
    }
   ],
   "source": [
    "## Total buy\n",
    "df1 = df[df['SIDE'] == 'B']\n",
    "total_buy = sum(df1['QUANTITY']*df1['PRICE'])\n",
    "print('Total buy:',total_buy)\n",
    "\n",
    "## Total sell\n",
    "df2 = df[df['SIDE'] == 'S']\n",
    "total_sell = sum(df2['QUANTITY']*df2['PRICE'])\n",
    "print('Total sell:',total_sell)"
   ]
  },
  {
   "cell_type": "markdown",
   "metadata": {},
   "source": [
    "We visualize the result."
   ]
  },
  {
   "cell_type": "code",
   "execution_count": 6,
   "metadata": {},
   "outputs": [
    {
     "data": {
      "image/png": "[encoded data removed]",
      "text/plain": [
       "<Figure size 288x216 with 1 Axes>"
      ]
     },
     "metadata": {
      "needs_background": "light"
     },
     "output_type": "display_data"
    }
   ],
   "source": [
    "fig, ax = plt.subplots(1, 1,figsize=(4,3))\n",
    "ax.bar(['Buy','Sell'], [total_buy,total_sell])\n",
    "ax.set_ylabel('Transaction volume')\n",
    "fig.tight_layout(h_pad=1, w_pad=1.5)"
   ]
  },
  {
   "cell_type": "markdown",
   "metadata": {},
   "source": [
    "### Question 2. Your business user asks you for a series of items as follows. In each of the items below, if you make assumptions to complete the task, please document them.\n",
    "#### A. Your business user asks you to tell them the unique symbols in the data table above."
   ]
  },
  {
   "cell_type": "markdown",
   "metadata": {},
   "source": [
    "Use `np.unique` to find the unique symbols in the data table, then write the result."
   ]
  },
  {
   "cell_type": "code",
   "execution_count": 7,
   "metadata": {
    "scrolled": true
   },
   "outputs": [
    {
     "name": "stdout",
     "output_type": "stream",
     "text": [
      "There were 3 unique symbols:\n",
      "['A123' 'B234' 'C345']\n"
     ]
    }
   ],
   "source": [
    "unique_symbol = np.unique(df['SYMBOL'])\n",
    "print('There were', len(unique_symbol), 'unique symbols:')\n",
    "print(unique_symbol)"
   ]
  },
  {
   "cell_type": "markdown",
   "metadata": {},
   "source": [
    "#### B. Your business user asks you to tell them the unique firm and symbol combinations in the data table above."
   ]
  },
  {
   "cell_type": "markdown",
   "metadata": {},
   "source": [
    "Create a new column that combines the unique `firm` and `symbol`."
   ]
  },
  {
   "cell_type": "code",
   "execution_count": 8,
   "metadata": {},
   "outputs": [],
   "source": [
    "df['firm_symbol'] = df['FIRM'].map(str) + df['SYMBOL']"
   ]
  },
  {
   "cell_type": "markdown",
   "metadata": {},
   "source": [
    "Use `np.unique` to find the unique combinations, then write the result."
   ]
  },
  {
   "cell_type": "code",
   "execution_count": 9,
   "metadata": {},
   "outputs": [
    {
     "name": "stdout",
     "output_type": "stream",
     "text": [
      "There were 8 unique firm-symbol combinations:\n",
      "['1ABCA123' '1ABCC345' '2BCDB234' '3CDEB234' '3CDEC345' '4DEFB234'\n",
      " '4DEFC345' 'CDEB234']\n"
     ]
    }
   ],
   "source": [
    "unique_firm_symbol = np.unique(df['firm_symbol'])\n",
    "print('There were', len(unique_firm_symbol), 'unique firm-symbol combinations:')\n",
    "print(unique_firm_symbol)"
   ]
  },
  {
   "cell_type": "markdown",
   "metadata": {},
   "source": [
    "#### C. Your business user asks you to show them a table that includes the number of trades for each firm and symbol combination in the data table above."
   ]
  },
  {
   "cell_type": "markdown",
   "metadata": {},
   "source": [
    "Use `np.unique` with option `return_counts = True` to find the unique combinations and number of trades for each combinations."
   ]
  },
  {
   "cell_type": "code",
   "execution_count": 10,
   "metadata": {
    "scrolled": false
   },
   "outputs": [],
   "source": [
    "unique_firm_symbol,number_trades = np.unique(df['firm_symbol'],return_counts=True)"
   ]
  },
  {
   "cell_type": "markdown",
   "metadata": {},
   "source": [
    "Create a data frame to show the result."
   ]
  },
  {
   "cell_type": "code",
   "execution_count": 11,
   "metadata": {},
   "outputs": [
    {
     "data": {
      "text/html": [
       "<div>\n",
       "<style scoped>\n",
       "    .dataframe tbody tr th:only-of-type {\n",
       "        vertical-align: middle;\n",
       "    }\n",
       "\n",
       "    .dataframe tbody tr th {\n",
       "        vertical-align: top;\n",
       "    }\n",
       "\n",
       "    .dataframe thead th {\n",
       "        text-align: right;\n",
       "    }\n",
       "</style>\n",
       "<table border=\"1\" class=\"dataframe\">\n",
       "  <thead>\n",
       "    <tr style=\"text-align: right;\">\n",
       "      <th></th>\n",
       "      <th>firm_symbol</th>\n",
       "      <th>number_trades</th>\n",
       "    </tr>\n",
       "  </thead>\n",
       "  <tbody>\n",
       "    <tr>\n",
       "      <th>0</th>\n",
       "      <td>1ABCA123</td>\n",
       "      <td>3</td>\n",
       "    </tr>\n",
       "    <tr>\n",
       "      <th>1</th>\n",
       "      <td>1ABCC345</td>\n",
       "      <td>1</td>\n",
       "    </tr>\n",
       "    <tr>\n",
       "      <th>2</th>\n",
       "      <td>2BCDB234</td>\n",
       "      <td>1</td>\n",
       "    </tr>\n",
       "    <tr>\n",
       "      <th>3</th>\n",
       "      <td>3CDEB234</td>\n",
       "      <td>1</td>\n",
       "    </tr>\n",
       "    <tr>\n",
       "      <th>4</th>\n",
       "      <td>3CDEC345</td>\n",
       "      <td>1</td>\n",
       "    </tr>\n",
       "    <tr>\n",
       "      <th>5</th>\n",
       "      <td>4DEFB234</td>\n",
       "      <td>1</td>\n",
       "    </tr>\n",
       "    <tr>\n",
       "      <th>6</th>\n",
       "      <td>4DEFC345</td>\n",
       "      <td>1</td>\n",
       "    </tr>\n",
       "    <tr>\n",
       "      <th>7</th>\n",
       "      <td>CDEB234</td>\n",
       "      <td>1</td>\n",
       "    </tr>\n",
       "  </tbody>\n",
       "</table>\n",
       "</div>"
      ],
      "text/plain": [
       "  firm_symbol  number_trades\n",
       "0    1ABCA123              3\n",
       "1    1ABCC345              1\n",
       "2    2BCDB234              1\n",
       "3    3CDEB234              1\n",
       "4    3CDEC345              1\n",
       "5    4DEFB234              1\n",
       "6    4DEFC345              1\n",
       "7     CDEB234              1"
      ]
     },
     "execution_count": 11,
     "metadata": {},
     "output_type": "execute_result"
    }
   ],
   "source": [
    "data_firm_symbol = {'firm_symbol': unique_firm_symbol,'number_trades':number_trades}\n",
    "df_firm_symbol = pd.DataFrame(data_firm_symbol)\n",
    "df_firm_symbol"
   ]
  },
  {
   "cell_type": "markdown",
   "metadata": {},
   "source": [
    "### Question 3. Based on the data table above, your business user asks you to create a report that shows, for each firm, the symbols they traded and the total dollar volume they traded in that symbol."
   ]
  },
  {
   "cell_type": "markdown",
   "metadata": {},
   "source": [
    "Find the unique firms."
   ]
  },
  {
   "cell_type": "code",
   "execution_count": 12,
   "metadata": {
    "scrolled": true
   },
   "outputs": [
    {
     "name": "stdout",
     "output_type": "stream",
     "text": [
      "The unique firms: ['1ABC' '2BCD' '3CDE' '4DEF' 'CDE']\n",
      "Number of unique firms: 5\n"
     ]
    }
   ],
   "source": [
    "unique_firm = np.unique(df['FIRM'])\n",
    "print('The unique firms:',unique_firm)\n",
    "print('Number of unique firms:',len(unique_firm))"
   ]
  },
  {
   "cell_type": "markdown",
   "metadata": {},
   "source": [
    "Make a for loop for each firm and find the unique symbols they traded, then find the total dollar volume by calculating the `sum` of multiplication `QUANTITY` and `FRICE`."
   ]
  },
  {
   "cell_type": "code",
   "execution_count": 13,
   "metadata": {
    "scrolled": true
   },
   "outputs": [
    {
     "name": "stdout",
     "output_type": "stream",
     "text": [
      "\n",
      "\n",
      "Firm: 1ABC\n",
      "The symbols they traded: ['A123' 'C345']\n",
      "Symbol A123 was traded with a total dollar volume: 29200\n",
      "Symbol C345 was traded with a total dollar volume: 42000\n",
      "\n",
      "\n",
      "Firm: 2BCD\n",
      "The symbols they traded: ['B234']\n",
      "Symbol B234 was traded with a total dollar volume: 36000\n",
      "\n",
      "\n",
      "Firm: 3CDE\n",
      "The symbols they traded: ['B234' 'C345']\n",
      "Symbol B234 was traded with a total dollar volume: 18300\n",
      "Symbol C345 was traded with a total dollar volume: 42000\n",
      "\n",
      "\n",
      "Firm: 4DEF\n",
      "The symbols they traded: ['B234' 'C345']\n",
      "Symbol B234 was traded with a total dollar volume: 12400\n",
      "Symbol C345 was traded with a total dollar volume: 149100\n",
      "\n",
      "\n",
      "Firm: CDE\n",
      "The symbols they traded: ['B234']\n",
      "Symbol B234 was traded with a total dollar volume: 69300\n"
     ]
    }
   ],
   "source": [
    "firm_list = []\n",
    "symbol_list = []\n",
    "total_volume_list = []\n",
    "\n",
    "for firm in unique_firm:\n",
    "    print(\"\\n\")\n",
    "    print('Firm:',firm)\n",
    "    \n",
    "    # create a new data frame for each firm:\n",
    "    df_firm = df[df['FIRM'] == firm]\n",
    "    \n",
    "    # the symbols they traded\n",
    "    unique_symbol = np.unique(df_firm['SYMBOL'])\n",
    "    print('The symbols they traded:',unique_symbol)\n",
    "    \n",
    "    # total dollar volume in each symbol\n",
    "    for symbol in unique_symbol:         \n",
    "        df_symbol = df_firm[df_firm['SYMBOL'] == symbol]\n",
    "        total_volume = sum(df_symbol['QUANTITY']*df_symbol['PRICE'])\n",
    "        print('Symbol',symbol,'was traded with a total dollar volume:',total_volume)\n",
    "        \n",
    "        # adding to a list, to create a data frame\n",
    "        firm_list.append(firm)\n",
    "        symbol_list.append(symbol)\n",
    "        total_volume_list.append(total_volume)        "
   ]
  },
  {
   "cell_type": "markdown",
   "metadata": {},
   "source": [
    "Create a data frame and show the result."
   ]
  },
  {
   "cell_type": "code",
   "execution_count": 14,
   "metadata": {},
   "outputs": [
    {
     "data": {
      "text/html": [
       "<div>\n",
       "<style scoped>\n",
       "    .dataframe tbody tr th:only-of-type {\n",
       "        vertical-align: middle;\n",
       "    }\n",
       "\n",
       "    .dataframe tbody tr th {\n",
       "        vertical-align: top;\n",
       "    }\n",
       "\n",
       "    .dataframe thead th {\n",
       "        text-align: right;\n",
       "    }\n",
       "</style>\n",
       "<table border=\"1\" class=\"dataframe\">\n",
       "  <thead>\n",
       "    <tr style=\"text-align: right;\">\n",
       "      <th></th>\n",
       "      <th>FIRM</th>\n",
       "      <th>SYMBOL</th>\n",
       "      <th>TOTAL_DOLLAR_VOLUME</th>\n",
       "    </tr>\n",
       "  </thead>\n",
       "  <tbody>\n",
       "    <tr>\n",
       "      <th>0</th>\n",
       "      <td>1ABC</td>\n",
       "      <td>A123</td>\n",
       "      <td>29200</td>\n",
       "    </tr>\n",
       "    <tr>\n",
       "      <th>1</th>\n",
       "      <td>1ABC</td>\n",
       "      <td>C345</td>\n",
       "      <td>42000</td>\n",
       "    </tr>\n",
       "    <tr>\n",
       "      <th>2</th>\n",
       "      <td>2BCD</td>\n",
       "      <td>B234</td>\n",
       "      <td>36000</td>\n",
       "    </tr>\n",
       "    <tr>\n",
       "      <th>3</th>\n",
       "      <td>3CDE</td>\n",
       "      <td>B234</td>\n",
       "      <td>18300</td>\n",
       "    </tr>\n",
       "    <tr>\n",
       "      <th>4</th>\n",
       "      <td>3CDE</td>\n",
       "      <td>C345</td>\n",
       "      <td>42000</td>\n",
       "    </tr>\n",
       "    <tr>\n",
       "      <th>5</th>\n",
       "      <td>4DEF</td>\n",
       "      <td>B234</td>\n",
       "      <td>12400</td>\n",
       "    </tr>\n",
       "    <tr>\n",
       "      <th>6</th>\n",
       "      <td>4DEF</td>\n",
       "      <td>C345</td>\n",
       "      <td>149100</td>\n",
       "    </tr>\n",
       "    <tr>\n",
       "      <th>7</th>\n",
       "      <td>CDE</td>\n",
       "      <td>B234</td>\n",
       "      <td>69300</td>\n",
       "    </tr>\n",
       "  </tbody>\n",
       "</table>\n",
       "</div>"
      ],
      "text/plain": [
       "   FIRM SYMBOL  TOTAL_DOLLAR_VOLUME\n",
       "0  1ABC   A123                29200\n",
       "1  1ABC   C345                42000\n",
       "2  2BCD   B234                36000\n",
       "3  3CDE   B234                18300\n",
       "4  3CDE   C345                42000\n",
       "5  4DEF   B234                12400\n",
       "6  4DEF   C345               149100\n",
       "7   CDE   B234                69300"
      ]
     },
     "execution_count": 14,
     "metadata": {},
     "output_type": "execute_result"
    }
   ],
   "source": [
    "df_traded_data = {'FIRM': firm_list, 'SYMBOL': symbol_list, 'TOTAL_DOLLAR_VOLUME': total_volume_list}\n",
    "df_traded = pd.DataFrame(df_traded_data)\n",
    "df_traded"
   ]
  },
  {
   "cell_type": "code",
   "execution_count": null,
   "metadata": {},
   "outputs": [],
   "source": []
  }
 ],
 "metadata": {
  "kernelspec": {
   "display_name": "Python 3",
   "language": "python",
   "name": "python3"
  },
  "language_info": {
   "codemirror_mode": {
    "name": "ipython",
    "version": 3
   },
   "file_extension": ".py",
   "mimetype": "text/x-python",
   "name": "python",
   "nbconvert_exporter": "python",
   "pygments_lexer": "ipython3",
   "version": "3.7.3"
  }
 },
 "nbformat": 4,
 "nbformat_minor": 2
}
