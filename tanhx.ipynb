{
 "cells": [
  {
   "cell_type": "code",
   "execution_count": 1,
   "metadata": {
    "collapsed": false
   },
   "outputs": [],
   "source": [
    "import numpy as np\n",
    "import matplotlib.pyplot as plt\n",
    "%matplotlib inline"
   ]
  },
  {
   "cell_type": "code",
   "execution_count": 2,
   "metadata": {
    "collapsed": false
   },
   "outputs": [
    {
     "name": "stdout",
     "output_type": "stream",
     "text": [
      "[-2.00000000e+00 -1.90000000e+00 -1.80000000e+00 -1.70000000e+00\n",
      " -1.60000000e+00 -1.50000000e+00 -1.40000000e+00 -1.30000000e+00\n",
      " -1.20000000e+00 -1.10000000e+00 -1.00000000e+00 -9.00000000e-01\n",
      " -8.00000000e-01 -7.00000000e-01 -6.00000000e-01 -5.00000000e-01\n",
      " -4.00000000e-01 -3.00000000e-01 -2.00000000e-01 -1.00000000e-01\n",
      "  1.77635684e-15  1.00000000e-01  2.00000000e-01  3.00000000e-01\n",
      "  4.00000000e-01  5.00000000e-01  6.00000000e-01  7.00000000e-01\n",
      "  8.00000000e-01  9.00000000e-01  1.00000000e+00  1.10000000e+00\n",
      "  1.20000000e+00  1.30000000e+00  1.40000000e+00  1.50000000e+00\n",
      "  1.60000000e+00  1.70000000e+00  1.80000000e+00  1.90000000e+00\n",
      "  2.00000000e+00]\n",
      "[-9.64027580e-01 -9.56237458e-01 -9.46806013e-01 -9.35409071e-01\n",
      " -9.21668554e-01 -9.05148254e-01 -8.85351648e-01 -8.61723159e-01\n",
      " -8.33654607e-01 -8.00499022e-01 -7.61594156e-01 -7.16297870e-01\n",
      " -6.64036770e-01 -6.04367777e-01 -5.37049567e-01 -4.62117157e-01\n",
      " -3.79948962e-01 -2.91312612e-01 -1.97375320e-01 -9.96679946e-02\n",
      "  1.77635684e-15  9.96679946e-02  1.97375320e-01  2.91312612e-01\n",
      "  3.79948962e-01  4.62117157e-01  5.37049567e-01  6.04367777e-01\n",
      "  6.64036770e-01  7.16297870e-01  7.61594156e-01  8.00499022e-01\n",
      "  8.33654607e-01  8.61723159e-01  8.85351648e-01  9.05148254e-01\n",
      "  9.21668554e-01  9.35409071e-01  9.46806013e-01  9.56237458e-01\n",
      "  9.64027580e-01]\n"
     ]
    }
   ],
   "source": [
    "a = 2\n",
    "x = np.arange(-a,a+0.1,0.1)\n",
    "print(x)\n",
    "\n",
    "y = np.tanh(x)\n",
    "print(y)"
   ]
  },
  {
   "cell_type": "code",
   "execution_count": 3,
   "metadata": {
    "collapsed": false
   },
   "outputs": [
    {
     "data": {
      "image/png": "[encoded data removed]",
      "text/plain": [
       "<matplotlib.figure.Figure at 0x7f72bcc43910>"
      ]
     },
     "metadata": {},
     "output_type": "display_data"
    }
   ],
   "source": [
    "plt.plot([-a,a],[0,0],'k') # ox\n",
    "plt.plot([0,0],[-a,a],'k') # oy\n",
    "plt.plot([-a,a],[1,1],'b--')\n",
    "plt.plot([-a,a],[-1,-1],'b--')\n",
    "plt.plot(x,y,'r')\n",
    "plt.savefig('figtanh.pdf', format='pdf', dpi=100)"
   ]
  },
  {
   "cell_type": "code",
   "execution_count": null,
   "metadata": {
    "collapsed": true
   },
   "outputs": [],
   "source": []
  }
 ],
 "metadata": {
  "kernelspec": {
   "display_name": "Python 2",
   "language": "python",
   "name": "python2"
  },
  "language_info": {
   "codemirror_mode": {
    "name": "ipython",
    "version": 2
   },
   "file_extension": ".py",
   "mimetype": "text/x-python",
   "name": "python",
   "nbconvert_exporter": "python",
   "pygments_lexer": "ipython2",
   "version": "2.7.15"
  }
 },
 "nbformat": 4,
 "nbformat_minor": 2
}
