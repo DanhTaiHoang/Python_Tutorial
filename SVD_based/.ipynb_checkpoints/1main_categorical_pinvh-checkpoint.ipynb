{
 "cells": [
  {
   "cell_type": "markdown",
   "metadata": {},
   "source": [
    "## Expectation Reflection for Classification"
   ]
  },
  {
   "cell_type": "code",
   "execution_count": 1,
   "metadata": {},
   "outputs": [],
   "source": [
    "import numpy as np\n",
    "from sklearn.model_selection import train_test_split\n",
    "from sklearn.model_selection import KFold\n",
    "from sklearn.utils import shuffle\n",
    "from sklearn.metrics import accuracy_score\n",
    "\n",
    "import expectation_reflection as ER\n",
    "from sklearn.linear_model import LogisticRegression\n",
    "\n",
    "import matplotlib.pyplot as plt\n",
    "%matplotlib inline"
   ]
  },
  {
   "cell_type": "code",
   "execution_count": 2,
   "metadata": {},
   "outputs": [],
   "source": [
    "np.random.seed(1)"
   ]
  },
  {
   "cell_type": "code",
   "execution_count": 3,
   "metadata": {},
   "outputs": [],
   "source": [
    "def synthesize_data(l,n,g,data_type='discrete'):        \n",
    "    if data_type == 'binary':\n",
    "        X = np.sign(np.random.rand(l,n)-0.5)\n",
    "        w = np.random.normal(0.,g/np.sqrt(n),size=n)\n",
    "        \n",
    "    if data_type == 'continuous':\n",
    "        X = 2*np.random.rand(l,n)-1\n",
    "        w = np.random.normal(0.,g/np.sqrt(n),size=n)\n",
    "        \n",
    "    if data_type == 'categorical':        \n",
    "        from sklearn.preprocessing import OneHotEncoder\n",
    "        m = 5 # categorical number for each variables\n",
    "        # initial s (categorical variables)\n",
    "        s = np.random.randint(0,m,size=(l,n)) # integer values\n",
    "        onehot_encoder = OneHotEncoder(sparse=False,categories='auto')\n",
    "        X = onehot_encoder.fit_transform(s)\n",
    "        w = np.random.normal(0.,g/np.sqrt(n),size=n*m)\n",
    "        \n",
    "    h = X.dot(w)\n",
    "    p = 1/(1+np.exp(-2*h)) # kinetic\n",
    "    #p = 1/(1+np.exp(-h))  # logistic regression\n",
    "    y = np.sign(p - np.random.rand(l))\n",
    "    return w,X,y"
   ]
  },
  {
   "cell_type": "code",
   "execution_count": 4,
   "metadata": {},
   "outputs": [],
   "source": [
    "l = 1000\n",
    "n = 20\n",
    "g = 2.\n",
    "\n",
    "w0,X,y = synthesize_data(l,n,g,data_type='binary')"
   ]
  },
  {
   "cell_type": "code",
   "execution_count": 5,
   "metadata": {},
   "outputs": [],
   "source": [
    "h0,w = ER.fit(X,y,niter_max=100,regu=0.0)"
   ]
  },
  {
   "cell_type": "code",
   "execution_count": 6,
   "metadata": {},
   "outputs": [
    {
     "data": {
      "text/plain": [
       "<matplotlib.collections.PathCollection at 0x7fecfee6f690>"
      ]
     },
     "execution_count": 6,
     "metadata": {},
     "output_type": "execute_result"
    },
    {
     "data": {
      "image/png": "[encoded data removed]",
      "text/plain": [
       "<Figure size 288x216 with 1 Axes>"
      ]
     },
     "metadata": {
      "needs_background": "light"
     },
     "output_type": "display_data"
    }
   ],
   "source": [
    "plt.figure(figsize=(4,3))\n",
    "plt.plot([-1,1],[-1,1],'r--')\n",
    "plt.scatter(w0,w)"
   ]
  },
  {
   "cell_type": "code",
   "execution_count": 7,
   "metadata": {},
   "outputs": [],
   "source": [
    "from scipy.sparse.linalg import svds\n",
    "#from numpy.linalg.svd import svds as svdsnp\n",
    "\n",
    "def fit(x,y,niter_max=500,regu=0.1):\n",
    "    #print(niter_max)    \n",
    "\n",
    "    n = x.shape[1]\n",
    "    \n",
    "    x_av = np.mean(x,axis=0)\n",
    "    dx = x - x_av\n",
    "    c = np.cov(dx,rowvar=False,bias=True)\n",
    "    #c += regu*np.identity(n)\n",
    "    #c_inv = linalg.inv(c)\n",
    "    \n",
    "    #---------------------------------------------------------\n",
    "    # 2018.06.07: find c_inv\n",
    "    #x_oh_svd = svds(x, k=n) \n",
    "    x_oh_svd = np.linalg.svd(x, full_matrices=True)\n",
    "    \n",
    "    x_oh_sv_pinv = x_oh_svd[1].copy()\n",
    "    zero_sv = np.isclose(x_oh_sv_pinv, 0)\n",
    "    x_oh_sv_pinv[zero_sv] = 0\n",
    "    x_oh_sv_pinv[~zero_sv] = 1. / x_oh_sv_pinv[~zero_sv]\n",
    "    x_oh_pinv = (x_oh_svd[2].T, x_oh_sv_pinv[:, np.newaxis], x_oh_svd[0].T)\n",
    "            \n",
    "    def solve(u):\n",
    "        w = x_oh_pinv[2].dot(u)\n",
    "        w = np.multiply(x_oh_pinv[1], w)\n",
    "        w = x_oh_pinv[0] * w\n",
    "        return w           \n",
    "    #---------------------------------------------------------\n",
    "\n",
    "    # initial values\n",
    "    h0 = 0.\n",
    "    w = np.random.normal(0.0,1./np.sqrt(n),size=(n))\n",
    "    \n",
    "    cost = np.full(niter_max,100.)\n",
    "    for iloop in range(niter_max):\n",
    "        h = h0 + x.dot(w)\n",
    "        y_model = np.tanh(h)    \n",
    "\n",
    "        # stopping criterion\n",
    "        cost[iloop] = ((y[:]-y_model[:])**2).mean()\n",
    "        if iloop>0 and cost[iloop] >= cost[iloop-1]: break\n",
    "\n",
    "        # update local field\n",
    "        t = h!=0    \n",
    "        h[t] *= y[t]/y_model[t]\n",
    "        h[~t] = y[~t]\n",
    "\n",
    "        # find w from h    \n",
    "        h_av = h.mean()\n",
    "        dh = h - h_av \n",
    "        dhdx = dh[:,np.newaxis]*dx[:,:]\n",
    "        dhdx_av = dhdx.mean(axis=0)\n",
    "        \n",
    "        # 2019.06.07: find w from h\n",
    "        w = c_inv.dot(dhdx_av)        \n",
    "        h0 = h_av - x_av.dot(w)\n",
    "        \n",
    "    return h0,w"
   ]
  },
  {
   "cell_type": "code",
   "execution_count": null,
   "metadata": {},
   "outputs": [],
   "source": [
    "plt.figure(figsize=(4,3))\n",
    "plt.plot([-1,1],[-1,1],'r--')\n",
    "plt.scatter(w0,w2)"
   ]
  }
 ],
 "metadata": {
  "kernelspec": {
   "display_name": "Python 2",
   "language": "python",
   "name": "python2"
  },
  "language_info": {
   "codemirror_mode": {
    "name": "ipython",
    "version": 2
   },
   "file_extension": ".py",
   "mimetype": "text/x-python",
   "name": "python",
   "nbconvert_exporter": "python",
   "pygments_lexer": "ipython2",
   "version": "2.7.16"
  }
 },
 "nbformat": 4,
 "nbformat_minor": 2
}
