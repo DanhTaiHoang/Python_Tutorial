{
 "cells": [
  {
   "cell_type": "code",
   "execution_count": 1,
   "metadata": {},
   "outputs": [],
   "source": [
    "import numpy as np\n",
    "import matplotlib.pyplot as plt\n",
    "from scipy import linalg"
   ]
  },
  {
   "cell_type": "code",
   "execution_count": 2,
   "metadata": {},
   "outputs": [],
   "source": [
    "l = 2000\n",
    "n = 20\n",
    "g = 2."
   ]
  },
  {
   "cell_type": "code",
   "execution_count": 3,
   "metadata": {},
   "outputs": [],
   "source": [
    "from sklearn.preprocessing import OneHotEncoder\n",
    "m = 5 # categorical number for each variables\n",
    "# initial s (categorical variables)\n",
    "x = np.random.randint(0,m,size=(l,n)) # integer values\n",
    "onehot_encoder = OneHotEncoder(sparse=False,categories='auto')\n",
    "x = onehot_encoder.fit_transform(x)\n",
    "w0 = np.random.normal(0.,g/np.sqrt(n),size=n*m)"
   ]
  },
  {
   "cell_type": "code",
   "execution_count": 4,
   "metadata": {},
   "outputs": [],
   "source": [
    "h = x.dot(w0)"
   ]
  },
  {
   "cell_type": "code",
   "execution_count": 5,
   "metadata": {},
   "outputs": [],
   "source": [
    "x_av = np.mean(x,axis=0)\n",
    "dx = x - x_av\n",
    "c = np.cov(dx,rowvar=False,bias=True)\n",
    "#c += regu*np.identity(n)\n",
    "c_inv = linalg.pinvh(c)"
   ]
  },
  {
   "cell_type": "code",
   "execution_count": 6,
   "metadata": {},
   "outputs": [],
   "source": [
    "# find w from h    \n",
    "h_av = h.mean()\n",
    "dh = h - h_av \n",
    "dhdx = dh[:,np.newaxis]*dx[:,:]\n",
    "\n",
    "dhdx_av = dhdx.mean(axis=0)\n",
    "w = c_inv.dot(dhdx_av)"
   ]
  },
  {
   "cell_type": "code",
   "execution_count": 7,
   "metadata": {
    "scrolled": true
   },
   "outputs": [
    {
     "data": {
      "text/plain": [
       "<matplotlib.collections.PathCollection at 0x7f38c828e150>"
      ]
     },
     "execution_count": 7,
     "metadata": {},
     "output_type": "execute_result"
    },
    {
     "data": {
      "image/png": "[encoded data removed]",
      "text/plain": [
       "<Figure size 432x288 with 1 Axes>"
      ]
     },
     "metadata": {
      "needs_background": "light"
     },
     "output_type": "display_data"
    }
   ],
   "source": [
    "plt.plot([-1,1],[-1,1])\n",
    "plt.scatter(w0,w)"
   ]
  },
  {
   "cell_type": "markdown",
   "metadata": {},
   "source": [
    "## SVD based"
   ]
  },
  {
   "cell_type": "code",
   "execution_count": 28,
   "metadata": {},
   "outputs": [],
   "source": [
    "u,s,vt = np.linalg.svd(c, full_matrices=True)"
   ]
  },
  {
   "cell_type": "code",
   "execution_count": 29,
   "metadata": {
    "scrolled": true
   },
   "outputs": [
    {
     "name": "stdout",
     "output_type": "stream",
     "text": [
      "((100, 100), (100,), (100, 100))\n"
     ]
    }
   ],
   "source": [
    "print(u.shape,s.shape,vt.shape)"
   ]
  },
  {
   "cell_type": "code",
   "execution_count": 30,
   "metadata": {},
   "outputs": [
    {
     "data": {
      "text/plain": [
       "array([2.85477773e-01, 2.74550390e-01, 2.73335713e-01, 2.71239915e-01,\n",
       "       2.67801642e-01, 2.66022121e-01, 2.62589959e-01, 2.59818414e-01,\n",
       "       2.57852820e-01, 2.55474563e-01, 2.52627476e-01, 2.47548816e-01,\n",
       "       2.46347149e-01, 2.45543987e-01, 2.44504222e-01, 2.41459891e-01,\n",
       "       2.37579277e-01, 2.36110445e-01, 2.33391924e-01, 2.32065668e-01,\n",
       "       2.30102754e-01, 2.28871547e-01, 2.28421987e-01, 2.24982054e-01,\n",
       "       2.22971508e-01, 2.20189509e-01, 2.17845076e-01, 2.16403684e-01,\n",
       "       2.13285576e-01, 2.12924554e-01, 2.11871206e-01, 2.10138678e-01,\n",
       "       2.08567942e-01, 2.06984751e-01, 2.06096486e-01, 2.05557333e-01,\n",
       "       2.03382459e-01, 2.00120761e-01, 1.98462316e-01, 1.98363218e-01,\n",
       "       1.95026809e-01, 1.94314175e-01, 1.92981270e-01, 1.91603376e-01,\n",
       "       1.90856268e-01, 1.89365670e-01, 1.86971758e-01, 1.86611134e-01,\n",
       "       1.83183775e-01, 1.82449928e-01, 1.80170144e-01, 1.79173982e-01,\n",
       "       1.77895234e-01, 1.76618561e-01, 1.76281948e-01, 1.74830634e-01,\n",
       "       1.72777443e-01, 1.71350120e-01, 1.70461869e-01, 1.66188643e-01,\n",
       "       1.65746819e-01, 1.64328777e-01, 1.61660580e-01, 1.60339212e-01,\n",
       "       1.58798586e-01, 1.58516755e-01, 1.55129038e-01, 1.54356921e-01,\n",
       "       1.53313724e-01, 1.52130796e-01, 1.48478791e-01, 1.47000178e-01,\n",
       "       1.46098904e-01, 1.43906014e-01, 1.42547013e-01, 1.42006571e-01,\n",
       "       1.38805072e-01, 1.35345326e-01, 1.33458149e-01, 1.30526470e-01,\n",
       "       3.74956335e-16, 2.21688023e-16, 2.06732177e-16, 2.06063272e-16,\n",
       "       1.97235342e-16, 1.95726462e-16, 1.83042122e-16, 1.63998721e-16,\n",
       "       1.52140705e-16, 1.36962526e-16, 1.07999944e-16, 1.04128609e-16,\n",
       "       8.75180507e-17, 7.56584663e-17, 6.33729290e-17, 4.27133118e-17,\n",
       "       2.97103640e-17, 2.17948972e-17, 1.49120220e-17, 5.11453927e-18])"
      ]
     },
     "execution_count": 30,
     "metadata": {},
     "output_type": "execute_result"
    }
   ],
   "source": [
    "s"
   ]
  },
  {
   "cell_type": "code",
   "execution_count": 31,
   "metadata": {},
   "outputs": [],
   "source": [
    "s_inv = s.copy()\n",
    "s_zeros = np.isclose(s_inv,0)\n",
    "s_inv[s_zeros] = 0\n",
    "s_inv[~s_zeros] = 1./s_inv[~s_zeros]\n",
    "c_inv = np.multiply(vt.T,s_inv)\n",
    "c_inv = c_inv.dot(u.T)"
   ]
  },
  {
   "cell_type": "code",
   "execution_count": 32,
   "metadata": {},
   "outputs": [
    {
     "data": {
      "text/plain": [
       "array([3.50289968, 3.64231862, 3.65850473, 3.68677302, 3.73410706,\n",
       "       3.75908589, 3.80821873, 3.8488419 , 3.87818136, 3.91428403,\n",
       "       3.95839762, 4.03960728, 4.05931225, 4.07259006, 4.08990893,\n",
       "       4.14147458, 4.20912133, 4.23530606, 4.28463839, 4.30912512,\n",
       "       4.34588453, 4.36926308, 4.37786228, 4.44479896, 4.48487796,\n",
       "       4.54154244, 4.5904182 , 4.62099343, 4.68854959, 4.69649921,\n",
       "       4.71984852, 4.75876221, 4.79460069, 4.83127377, 4.85209631,\n",
       "       4.8648228 , 4.91684488, 4.9969828 , 5.03873994, 5.0412572 ,\n",
       "       5.12750018, 5.14630496, 5.18185003, 5.21911472, 5.23954497,\n",
       "       5.28078822, 5.34840135, 5.35873707, 5.45899876, 5.48095585,\n",
       "       5.55030917, 5.58116748, 5.62128606, 5.66191907, 5.6727306 ,\n",
       "       5.71982137, 5.78779258, 5.83600408, 5.86641462, 6.01725833,\n",
       "       6.03329831, 6.08536142, 6.1857999 , 6.23677757, 6.29728531,\n",
       "       6.30848139, 6.44624639, 6.47849149, 6.5225733 , 6.57329106,\n",
       "       6.73496866, 6.80271285, 6.84467833, 6.94897989, 7.01522942,\n",
       "       7.04192765, 7.2043477 , 7.38850782, 7.49298566, 7.66128127,\n",
       "       0.        , 0.        , 0.        , 0.        , 0.        ,\n",
       "       0.        , 0.        , 0.        , 0.        , 0.        ,\n",
       "       0.        , 0.        , 0.        , 0.        , 0.        ,\n",
       "       0.        , 0.        , 0.        , 0.        , 0.        ])"
      ]
     },
     "execution_count": 32,
     "metadata": {},
     "output_type": "execute_result"
    }
   ],
   "source": [
    "s_inv"
   ]
  },
  {
   "cell_type": "code",
   "execution_count": 13,
   "metadata": {},
   "outputs": [],
   "source": [
    "w = c_inv.dot(dhdx_av)"
   ]
  },
  {
   "cell_type": "code",
   "execution_count": 14,
   "metadata": {},
   "outputs": [
    {
     "data": {
      "text/plain": [
       "<matplotlib.collections.PathCollection at 0x7f38c81bc190>"
      ]
     },
     "execution_count": 14,
     "metadata": {},
     "output_type": "execute_result"
    },
    {
     "data": {
      "image/png": "[encoded data removed]",
      "text/plain": [
       "<Figure size 432x288 with 1 Axes>"
      ]
     },
     "metadata": {
      "needs_background": "light"
     },
     "output_type": "display_data"
    }
   ],
   "source": [
    "plt.plot([-1,1],[-1,1])\n",
    "plt.scatter(w0,w)"
   ]
  },
  {
   "cell_type": "code",
   "execution_count": 17,
   "metadata": {},
   "outputs": [],
   "source": [
    "from scipy.sparse.linalg import svds"
   ]
  },
  {
   "cell_type": "code",
   "execution_count": 23,
   "metadata": {},
   "outputs": [
    {
     "name": "stdout",
     "output_type": "stream",
     "text": [
      "((100, 80), (80,), (80, 100))\n"
     ]
    }
   ],
   "source": [
    "u,s,vt = svds(c, k=x.shape[1]-n)\n",
    "print(u.shape,s.shape,vt.shape)"
   ]
  },
  {
   "cell_type": "code",
   "execution_count": 24,
   "metadata": {},
   "outputs": [
    {
     "data": {
      "text/plain": [
       "array([0.13052647, 0.13345815, 0.13534533, 0.13880507, 0.14200657,\n",
       "       0.14254701, 0.14390601, 0.1460989 , 0.14700018, 0.14847879,\n",
       "       0.1521308 , 0.15331372, 0.15435692, 0.15512904, 0.15851676,\n",
       "       0.15879859, 0.16033921, 0.16166058, 0.16432878, 0.16574682,\n",
       "       0.16618864, 0.17046187, 0.17135012, 0.17277744, 0.17483063,\n",
       "       0.17628195, 0.17661856, 0.17789523, 0.17917398, 0.18017014,\n",
       "       0.18244993, 0.18318378, 0.18661113, 0.18697176, 0.18936567,\n",
       "       0.19085627, 0.19160338, 0.19298127, 0.19431417, 0.19502681,\n",
       "       0.19836322, 0.19846232, 0.20012076, 0.20338246, 0.20555733,\n",
       "       0.20609649, 0.20698475, 0.20856794, 0.21013868, 0.21187121,\n",
       "       0.21292455, 0.21328558, 0.21640368, 0.21784508, 0.22018951,\n",
       "       0.22297151, 0.22498205, 0.22842199, 0.22887155, 0.23010275,\n",
       "       0.23206567, 0.23339192, 0.23611045, 0.23757928, 0.24145989,\n",
       "       0.24450422, 0.24554399, 0.24634715, 0.24754882, 0.25262748,\n",
       "       0.25547456, 0.25785282, 0.25981841, 0.26258996, 0.26602212,\n",
       "       0.26780164, 0.27123991, 0.27333571, 0.27455039, 0.28547777])"
      ]
     },
     "execution_count": 24,
     "metadata": {},
     "output_type": "execute_result"
    }
   ],
   "source": [
    "s"
   ]
  },
  {
   "cell_type": "code",
   "execution_count": 25,
   "metadata": {},
   "outputs": [],
   "source": [
    "s_inv = s.copy()\n",
    "s_zeros = np.isclose(s_inv,0)\n",
    "s_inv[s_zeros] = 0\n",
    "s_inv[~s_zeros] = 1./s_inv[~s_zeros]\n",
    "c_inv = np.multiply(vt.T,s_inv)\n",
    "c_inv = c_inv.dot(u.T)"
   ]
  },
  {
   "cell_type": "code",
   "execution_count": 26,
   "metadata": {},
   "outputs": [],
   "source": [
    "w = c_inv.dot(dhdx_av)"
   ]
  },
  {
   "cell_type": "code",
   "execution_count": 27,
   "metadata": {
    "scrolled": true
   },
   "outputs": [
    {
     "data": {
      "text/plain": [
       "<matplotlib.collections.PathCollection at 0x7f38c6b8ef50>"
      ]
     },
     "execution_count": 27,
     "metadata": {},
     "output_type": "execute_result"
    },
    {
     "data": {
      "image/png": "[encoded data removed]",
      "text/plain": [
       "<Figure size 432x288 with 1 Axes>"
      ]
     },
     "metadata": {
      "needs_background": "light"
     },
     "output_type": "display_data"
    }
   ],
   "source": [
    "plt.plot([-1,1],[-1,1])\n",
    "plt.scatter(w0,w)"
   ]
  },
  {
   "cell_type": "code",
   "execution_count": null,
   "metadata": {},
   "outputs": [],
   "source": []
  },
  {
   "cell_type": "code",
   "execution_count": null,
   "metadata": {},
   "outputs": [],
   "source": [
    "u,s,vt = svds(c, k=x.shape[1]-n)\n",
    "print(u.shape,s.shape,vt.shape)"
   ]
  }
 ],
 "metadata": {
  "kernelspec": {
   "display_name": "Python 2",
   "language": "python",
   "name": "python2"
  },
  "language_info": {
   "codemirror_mode": {
    "name": "ipython",
    "version": 2
   },
   "file_extension": ".py",
   "mimetype": "text/x-python",
   "name": "python",
   "nbconvert_exporter": "python",
   "pygments_lexer": "ipython2",
   "version": "2.7.16"
  }
 },
 "nbformat": 4,
 "nbformat_minor": 2
}
