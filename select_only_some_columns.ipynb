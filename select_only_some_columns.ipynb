{
 "cells": [
  {
   "cell_type": "code",
   "execution_count": 2,
   "metadata": {},
   "outputs": [
    {
     "name": "stdout",
     "output_type": "stream",
     "text": [
      "[[ 1. -1.  1. -1.]\n",
      " [ 1.  1.  1. -1.]\n",
      " [-1. -1.  1.  1.]]\n"
     ]
    }
   ],
   "source": [
    "# select only some columns that satisfies certain conditions\n",
    "import numpy as np\n",
    "\n",
    "s = np.array([[1.,-1.,1.,-1.],[1.,1.,1.,-1.],[-1.,-1.,1.,1.]])\n",
    "print(s)"
   ]
  },
  {
   "cell_type": "code",
   "execution_count": 8,
   "metadata": {},
   "outputs": [
    {
     "name": "stdout",
     "output_type": "stream",
     "text": [
      "(3, 4)\n"
     ]
    }
   ],
   "source": [
    "l = s.shape[0]\n",
    "n = s.shape[1]\n",
    "print(l,n)\n"
   ]
  },
  {
   "cell_type": "code",
   "execution_count": 9,
   "metadata": {},
   "outputs": [
    {
     "name": "stdout",
     "output_type": "stream",
     "text": [
      "[0.3333333333333333, 0.6666666666666666, 0.0, 0.6666666666666666]\n"
     ]
    }
   ],
   "source": [
    "f = [(s[:,i] == -1).sum()/float(l) for i in range(n)]\n",
    "print(f)"
   ]
  },
  {
   "cell_type": "code",
   "execution_count": 19,
   "metadata": {},
   "outputs": [
    {
     "name": "stdout",
     "output_type": "stream",
     "text": [
      "[0]\n"
     ]
    }
   ],
   "source": [
    "cols = [i for i in range(n) if 0.1 < f[i] and f[i] < 0.5]\n",
    "print(cols)"
   ]
  },
  {
   "cell_type": "code",
   "execution_count": 20,
   "metadata": {},
   "outputs": [
    {
     "name": "stdout",
     "output_type": "stream",
     "text": [
      "[[ 1.]\n",
      " [ 1.]\n",
      " [-1.]]\n"
     ]
    }
   ],
   "source": [
    "s1 = s[:,cols]\n",
    "print(s1)"
   ]
  },
  {
   "cell_type": "code",
   "execution_count": null,
   "metadata": {},
   "outputs": [],
   "source": []
  }
 ],
 "metadata": {
  "kernelspec": {
   "display_name": "Python 2",
   "language": "python",
   "name": "python2"
  },
  "language_info": {
   "codemirror_mode": {
    "name": "ipython",
    "version": 2
   },
   "file_extension": ".py",
   "mimetype": "text/x-python",
   "name": "python",
   "nbconvert_exporter": "python",
   "pygments_lexer": "ipython2",
   "version": "2.7.14"
  }
 },
 "nbformat": 4,
 "nbformat_minor": 2
}
