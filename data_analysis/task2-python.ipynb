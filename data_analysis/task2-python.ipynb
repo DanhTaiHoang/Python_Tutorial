{
 "cells": [
  {
   "cell_type": "markdown",
   "metadata": {},
   "source": [
    "### Python / Scala or Java Algorithms \n",
    "#### Describe the code to find the greatest common denominator of two numbers."
   ]
  },
  {
   "cell_type": "markdown",
   "metadata": {},
   "source": [
    "Answer: The greatest common denominator of two numbers is infinity, without any python code is need. \n",
    "\n",
    "If that was a typo, `the greatest` would be replaced by `the least`, then below is my code:"
   ]
  },
  {
   "cell_type": "code",
   "execution_count": 3,
   "metadata": {},
   "outputs": [
    {
     "name": "stdout",
     "output_type": "stream",
     "text": [
      "The LCD of 4 and 6 is: 12.0\n"
     ]
    }
   ],
   "source": [
    "def gcd(a,b):\n",
    "## We use Euclidean algorithm to find the greatest common divisor of those two numbers \n",
    "## (https://en.wikipedia.org/wiki/Euclidean_algorithm)\n",
    "    while (b):\n",
    "        a, b = b, a%b\n",
    "        \n",
    "    return a  \n",
    "\n",
    "#-------------------------------------------------------------\n",
    "def lcd(a,b):\n",
    "## Calculate the least common denominator based on the relation ship \n",
    "## a * b = LCD * GCD\n",
    "## where a and b are the two number, LCD is the least common denominator\n",
    "## GCD is the greatest common divisor    \n",
    "    return a*b/gcd(a,b)\n",
    "\n",
    "#-------------------------------------------------------------\n",
    "# test:\n",
    "number1 = 4\n",
    "number2 = 6\n",
    "\n",
    "print(\"The LCD of\", number1,\"and\", number2,\"is:\", lcd(number1, number2))"
   ]
  },
  {
   "cell_type": "code",
   "execution_count": null,
   "metadata": {},
   "outputs": [],
   "source": []
  }
 ],
 "metadata": {
  "kernelspec": {
   "display_name": "Python 3",
   "language": "python",
   "name": "python3"
  },
  "language_info": {
   "codemirror_mode": {
    "name": "ipython",
    "version": 3
   },
   "file_extension": ".py",
   "mimetype": "text/x-python",
   "name": "python",
   "nbconvert_exporter": "python",
   "pygments_lexer": "ipython3",
   "version": "3.7.3"
  }
 },
 "nbformat": 4,
 "nbformat_minor": 2
}
