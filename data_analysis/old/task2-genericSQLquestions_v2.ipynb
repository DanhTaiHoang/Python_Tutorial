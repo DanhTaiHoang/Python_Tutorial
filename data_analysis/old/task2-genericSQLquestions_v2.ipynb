{
 "cells": [
  {
   "cell_type": "markdown",
   "metadata": {},
   "source": [
    "## Generic SQL Questions:\n",
    "\n",
    "Sample table to be used for solutions below – \n",
    "Employee ( empid integer, mgrid integer, deptid integer, salary integer) \n",
    "Dept (deptid integer, deptname text)"
   ]
  },
  {
   "cell_type": "code",
   "execution_count": 2,
   "metadata": {},
   "outputs": [],
   "source": [
    "import pandas as pd\n",
    "import numpy as np"
   ]
  },
  {
   "cell_type": "code",
   "execution_count": 4,
   "metadata": {},
   "outputs": [
    {
     "data": {
      "text/html": [
       "<div>\n",
       "<style scoped>\n",
       "    .dataframe tbody tr th:only-of-type {\n",
       "        vertical-align: middle;\n",
       "    }\n",
       "\n",
       "    .dataframe tbody tr th {\n",
       "        vertical-align: top;\n",
       "    }\n",
       "\n",
       "    .dataframe thead th {\n",
       "        text-align: right;\n",
       "    }\n",
       "</style>\n",
       "<table border=\"1\" class=\"dataframe\">\n",
       "  <thead>\n",
       "    <tr style=\"text-align: right;\">\n",
       "      <th></th>\n",
       "      <th>E_ID</th>\n",
       "      <th>M_ID</th>\n",
       "      <th>SALARY</th>\n",
       "      <th>D_ID</th>\n",
       "      <th>D_NAME</th>\n",
       "    </tr>\n",
       "  </thead>\n",
       "  <tbody>\n",
       "    <tr>\n",
       "      <th>0</th>\n",
       "      <td>100</td>\n",
       "      <td>00</td>\n",
       "      <td>10000</td>\n",
       "      <td>201</td>\n",
       "      <td>A</td>\n",
       "    </tr>\n",
       "    <tr>\n",
       "      <th>1</th>\n",
       "      <td>101</td>\n",
       "      <td></td>\n",
       "      <td>9500</td>\n",
       "      <td>201</td>\n",
       "      <td>A</td>\n",
       "    </tr>\n",
       "    <tr>\n",
       "      <th>2</th>\n",
       "      <td>102</td>\n",
       "      <td>02</td>\n",
       "      <td>11000</td>\n",
       "      <td>201</td>\n",
       "      <td>A</td>\n",
       "    </tr>\n",
       "    <tr>\n",
       "      <th>3</th>\n",
       "      <td>103</td>\n",
       "      <td></td>\n",
       "      <td>10500</td>\n",
       "      <td>205</td>\n",
       "      <td>E</td>\n",
       "    </tr>\n",
       "    <tr>\n",
       "      <th>4</th>\n",
       "      <td>104</td>\n",
       "      <td></td>\n",
       "      <td>8000</td>\n",
       "      <td>205</td>\n",
       "      <td>E</td>\n",
       "    </tr>\n",
       "    <tr>\n",
       "      <th>5</th>\n",
       "      <td>105</td>\n",
       "      <td>05</td>\n",
       "      <td>9500</td>\n",
       "      <td>205</td>\n",
       "      <td>E</td>\n",
       "    </tr>\n",
       "    <tr>\n",
       "      <th>6</th>\n",
       "      <td>106</td>\n",
       "      <td></td>\n",
       "      <td>8000</td>\n",
       "      <td>202</td>\n",
       "      <td>B</td>\n",
       "    </tr>\n",
       "    <tr>\n",
       "      <th>7</th>\n",
       "      <td>107</td>\n",
       "      <td>07</td>\n",
       "      <td>11000</td>\n",
       "      <td>202</td>\n",
       "      <td>B</td>\n",
       "    </tr>\n",
       "    <tr>\n",
       "      <th>8</th>\n",
       "      <td>108</td>\n",
       "      <td>08</td>\n",
       "      <td>15000</td>\n",
       "      <td>203</td>\n",
       "      <td>C</td>\n",
       "    </tr>\n",
       "  </tbody>\n",
       "</table>\n",
       "</div>"
      ],
      "text/plain": [
       "  E_ID M_ID  SALARY D_ID D_NAME\n",
       "0  100   00   10000  201      A\n",
       "1  101         9500  201      A\n",
       "2  102   02   11000  201      A\n",
       "3  103        10500  205      E\n",
       "4  104         8000  205      E\n",
       "5  105   05    9500  205      E\n",
       "6  106         8000  202      B\n",
       "7  107   07   11000  202      B\n",
       "8  108   08   15000  203      C"
      ]
     },
     "execution_count": 4,
     "metadata": {},
     "output_type": "execute_result"
    }
   ],
   "source": [
    "# Create a DataFrame\n",
    "data = {'E_ID':['100','101','102','103','104','105','106','107','108'],      \n",
    "        'M_ID':['00','','02','','','05','','07','08'],      \n",
    "        'SALARY':[10000,9500,11000,10500,8000,9500,8000,11000,15000],\n",
    "        'D_ID':['201','201','201','205','205','205','202','202','203'],\n",
    "        'D_NAME':['A','A','A','E','E','E','B','B','C'],  \n",
    "       }\n",
    "\n",
    "df = pd.DataFrame(data)\n",
    "df"
   ]
  },
  {
   "cell_type": "markdown",
   "metadata": {},
   "source": [
    "#### 1. Find employees who do not manage anybody.\n",
    "\n"
   ]
  },
  {
   "cell_type": "markdown",
   "metadata": {},
   "source": [
    "#### 2. Find departments that have maximum number of employees. (solution should consider scenario having more than 1 departments that have maximum number of employees). Result should only have following information for selected department - deptname, count of employees sorted by deptname."
   ]
  },
  {
   "cell_type": "code",
   "execution_count": 3,
   "metadata": {},
   "outputs": [
    {
     "name": "stdout",
     "output_type": "stream",
     "text": [
      "The unique department names:\n",
      "['A' 'B' 'C' 'E']\n",
      "The number of employees:\n",
      "[3 2 1 3]\n"
     ]
    }
   ],
   "source": [
    "# unique department names and number of employees\n",
    "dep,counts = np.unique(df['D_NAME'],return_counts=True)\n",
    "\n",
    "print('The unique department names:')\n",
    "print(dep)\n",
    "\n",
    "print('The number of employees:')\n",
    "print(counts)"
   ]
  },
  {
   "cell_type": "code",
   "execution_count": 6,
   "metadata": {
    "scrolled": true
   },
   "outputs": [
    {
     "name": "stdout",
     "output_type": "stream",
     "text": [
      "The departments having maximum number of employees:\n",
      "[['A']\n",
      " ['E']]\n",
      "The number of employees of the department(s):\n",
      "3\n"
     ]
    }
   ],
   "source": [
    "# indexs have maximum number of employees\n",
    "i = np.argwhere(counts == np.max(counts))\n",
    "#print(i)\n",
    "\n",
    "# the names of departments having maximum number of employees\n",
    "# (deptname is automatically sorted from np.unique)\n",
    "dep_name_max = dep[i]\n",
    "\n",
    "print('The departments having maximum number of employees:')\n",
    "print(dep_name_max)\n",
    "\n",
    "print('The number of employees of the department(s):')\n",
    "print(np.max(counts))"
   ]
  },
  {
   "cell_type": "markdown",
   "metadata": {},
   "source": [
    "#### 3. Find top 3 employees (salary based) in every department. Result should have deptname, empid, salary sorted by deptname and then employee with high to low salary."
   ]
  },
  {
   "cell_type": "code",
   "execution_count": null,
   "metadata": {},
   "outputs": [],
   "source": []
  },
  {
   "cell_type": "markdown",
   "metadata": {},
   "source": [
    "#### 4. List all employees, their salary and the salary of the person in their department who makes the most money but less than the employee."
   ]
  },
  {
   "cell_type": "markdown",
   "metadata": {},
   "source": []
  }
 ],
 "metadata": {
  "kernelspec": {
   "display_name": "Python 3",
   "language": "python",
   "name": "python3"
  },
  "language_info": {
   "codemirror_mode": {
    "name": "ipython",
    "version": 3
   },
   "file_extension": ".py",
   "mimetype": "text/x-python",
   "name": "python",
   "nbconvert_exporter": "python",
   "pygments_lexer": "ipython3",
   "version": "3.7.3"
  }
 },
 "nbformat": 4,
 "nbformat_minor": 2
}
