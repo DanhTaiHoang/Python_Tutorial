{
 "cells": [
  {
   "cell_type": "code",
   "execution_count": 1,
   "metadata": {},
   "outputs": [],
   "source": [
    "import numpy as np"
   ]
  },
  {
   "cell_type": "code",
   "execution_count": 3,
   "metadata": {},
   "outputs": [
    {
     "name": "stdout",
     "output_type": "stream",
     "text": [
      "S:\n",
      "[[ 1. -1.]\n",
      " [ 2.  0.]\n",
      " [ 3.  4.]]\n",
      "('S[1,0]:', 2.0)\n"
     ]
    }
   ],
   "source": [
    "#0) generate sequence\n",
    "L=3\n",
    "N=2\n",
    "\n",
    "S = np.array([[1., -1.], [2.,0.], [3., 4.]])\n",
    "print('S:')\n",
    "print(S)\n",
    "print('S[1,0]:',S[1,0])"
   ]
  },
  {
   "cell_type": "code",
   "execution_count": 4,
   "metadata": {},
   "outputs": [
    {
     "name": "stdout",
     "output_type": "stream",
     "text": [
      "dS:\n",
      "[[-1. -2.]\n",
      " [ 0. -1.]\n",
      " [ 1.  3.]]\n",
      "Cij:\n",
      "[[0.66666667 1.66666667]\n",
      " [1.66666667 4.66666667]]\n"
     ]
    }
   ],
   "source": [
    "# 1) Calculate covariance by traditional method\n",
    "m = np.mean(S, axis=0)\n",
    "dS = S - m\n",
    "print('dS:')\n",
    "print(dS)\n",
    "\n",
    "print('Cij:')\n",
    "C = np.empty((N,N))\n",
    "for i in range(N):\n",
    "   for j in range(N):\n",
    "      C[i,j] = np.mean(dS[:, i] * dS[:, j])\n",
    "      #print(i,j,C[i,j])\n",
    "print(C)"
   ]
  },
  {
   "cell_type": "code",
   "execution_count": 5,
   "metadata": {},
   "outputs": [
    {
     "name": "stdout",
     "output_type": "stream",
     "text": [
      "Cij by matrix transpose:\n",
      "[[0.66666667 1.66666667]\n",
      " [1.66666667 4.66666667]]\n"
     ]
    }
   ],
   "source": [
    "# 2) by matrix transpose:\n",
    "print('Cij by matrix transpose:' )\n",
    "C2 = np.matmul(dS.T,dS)/L\n",
    "print(C2)"
   ]
  },
  {
   "cell_type": "code",
   "execution_count": 6,
   "metadata": {},
   "outputs": [
    {
     "name": "stdout",
     "output_type": "stream",
     "text": [
      "Cij by np.cov:\n",
      "[[0.66666667 1.66666667]\n",
      " [1.66666667 4.66666667]]\n"
     ]
    }
   ],
   "source": [
    "# 3) by python function:\n",
    "C3 = np.cov(S.T,bias=True)  ## need to add bias = True\n",
    "print('Cij by np.cov:' )\n",
    "print(C3)"
   ]
  },
  {
   "cell_type": "code",
   "execution_count": 7,
   "metadata": {},
   "outputs": [
    {
     "name": "stdout",
     "output_type": "stream",
     "text": [
      "Cij by np.cov, rowvar=False:\n",
      "[[0.66666667 1.66666667]\n",
      " [1.66666667 4.66666667]]\n"
     ]
    }
   ],
   "source": [
    "# 4) by python function:\n",
    "C4 = np.cov(S,rowvar=False,bias=True)  ## need to add bias = True\n",
    "print('Cij by np.cov, rowvar=False:' )\n",
    "print(C4)"
   ]
  },
  {
   "cell_type": "code",
   "execution_count": 8,
   "metadata": {},
   "outputs": [
    {
     "name": "stdout",
     "output_type": "stream",
     "text": [
      "St:\n",
      "[[1 2]\n",
      " [0 0]\n",
      " [2 1]]\n",
      "[[-1. -2.]\n",
      " [ 0. -1.]\n",
      " [ 1.  3.]]\n",
      "[[ 0.  1.]\n",
      " [-1. -1.]\n",
      " [ 1.  0.]]\n",
      "[[ 0.33333333  1.33333333]\n",
      " [-0.33333333 -0.33333333]]\n"
     ]
    }
   ],
   "source": [
    "St = np.array([[1,2],[0,0],[2,1]])\n",
    "print('St:')\n",
    "print(St)\n",
    "\n",
    "mSt = np.mean(St, axis=0)\n",
    "dSt = St - mSt\n",
    "\n",
    "print(dS)\n",
    "print(dSt)\n",
    "\n",
    "C11 = np.empty((N,N))\n",
    "for i in range(N):\n",
    "   for j in range(N):\n",
    "      C11[i,j] = np.mean(dSt[:, i] * dS[:, j])\n",
    "print(C11)"
   ]
  },
  {
   "cell_type": "code",
   "execution_count": 9,
   "metadata": {},
   "outputs": [
    {
     "name": "stdout",
     "output_type": "stream",
     "text": [
      "[[ 0.33333333  1.33333333]\n",
      " [-0.33333333 -0.33333333]]\n"
     ]
    }
   ],
   "source": [
    "def cross_cov(a,b):\n",
    "   da = a - np.mean(a, axis=0)\n",
    "   db = b - np.mean(b, axis=0)\n",
    "   return np.matmul(da.T,db)/a.shape[0]\n",
    "\n",
    "C12 = cross_cov(St,S)\n",
    "print(C12)"
   ]
  },
  {
   "cell_type": "code",
   "execution_count": null,
   "metadata": {},
   "outputs": [],
   "source": []
  }
 ],
 "metadata": {
  "kernelspec": {
   "display_name": "Python 2",
   "language": "python",
   "name": "python2"
  },
  "language_info": {
   "codemirror_mode": {
    "name": "ipython",
    "version": 2
   },
   "file_extension": ".py",
   "mimetype": "text/x-python",
   "name": "python",
   "nbconvert_exporter": "python",
   "pygments_lexer": "ipython2",
   "version": "2.7.14"
  }
 },
 "nbformat": 4,
 "nbformat_minor": 2
}
