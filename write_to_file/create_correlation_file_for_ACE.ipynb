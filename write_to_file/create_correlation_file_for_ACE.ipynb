{
 "cells": [
  {
   "cell_type": "code",
   "execution_count": 1,
   "metadata": {},
   "outputs": [],
   "source": [
    "import sys\n",
    "import numpy as np\n",
    "from sklearn.preprocessing import OneHotEncoder"
   ]
  },
  {
   "cell_type": "code",
   "execution_count": 2,
   "metadata": {},
   "outputs": [],
   "source": [
    "np.random.seed(1)"
   ]
  },
  {
   "cell_type": "code",
   "execution_count": 3,
   "metadata": {},
   "outputs": [],
   "source": [
    "pfam_id = 'PF00200'\n",
    "#pfam_id = sys.argv[1]\n",
    "\n",
    "s0 = np.loadtxt('../pfam_50_80pos/%s_s0.txt'%(pfam_id)).astype(int)"
   ]
  },
  {
   "cell_type": "code",
   "execution_count": 4,
   "metadata": {},
   "outputs": [],
   "source": [
    "n_var = s0.shape[1]\n",
    "mx = np.array([len(np.unique(s0[:,i])) for i in range(n_var)])\n",
    "mx_cumsum = np.insert(mx.cumsum(),0,0)\n",
    "i1i2 = np.stack([mx_cumsum[:-1],mx_cumsum[1:]]).T \n",
    "\n",
    "mx_sum = mx.sum()"
   ]
  },
  {
   "cell_type": "code",
   "execution_count": 5,
   "metadata": {},
   "outputs": [],
   "source": [
    "onehot_encoder = OneHotEncoder(sparse=False,categories='auto')\n",
    "#onehot_encoder = OneHotEncoder(sparse=False)\n",
    "\n",
    "s = onehot_encoder.fit_transform(s0)"
   ]
  },
  {
   "cell_type": "code",
   "execution_count": 7,
   "metadata": {},
   "outputs": [
    {
     "data": {
      "text/plain": [
       "array([ 3, 17, 13,  9, 19, 17, 17, 17, 18, 12, 15, 15, 13, 13,  6, 13, 15,\n",
       "       14,  6, 15, 12, 16,  6, 14, 15, 12, 15,  7, 14, 17, 18, 11, 17, 13,\n",
       "       15, 14, 17, 14, 16,  9, 17, 14,  6, 13,  7, 16, 15, 14, 19, 17])"
      ]
     },
     "execution_count": 7,
     "metadata": {},
     "output_type": "execute_result"
    }
   ],
   "source": [
    "mx"
   ]
  },
  {
   "cell_type": "code",
   "execution_count": 8,
   "metadata": {},
   "outputs": [
    {
     "data": {
      "text/plain": [
       "(4190, 50)"
      ]
     },
     "execution_count": 8,
     "metadata": {},
     "output_type": "execute_result"
    }
   ],
   "source": [
    "s0.shape"
   ]
  },
  {
   "cell_type": "code",
   "execution_count": 12,
   "metadata": {},
   "outputs": [
    {
     "name": "stdout",
     "output_type": "stream",
     "text": [
      "(677,)\n"
     ]
    }
   ],
   "source": [
    "# p(ia)\n",
    "p_ia = s.mean(axis=0)\n",
    "print(p_ia.shape)"
   ]
  },
  {
   "cell_type": "code",
   "execution_count": 13,
   "metadata": {},
   "outputs": [
    {
     "name": "stdout",
     "output_type": "stream",
     "text": [
      "(677, 677)\n"
     ]
    }
   ],
   "source": [
    "# p_iajb:\n",
    "p_iajb = (s[:,:,np.newaxis]*s[:,np.newaxis,:]).mean(axis=0)\n",
    "print(p_iajb.shape)"
   ]
  },
  {
   "cell_type": "code",
   "execution_count": 25,
   "metadata": {},
   "outputs": [],
   "source": [
    "#with open('c.dat', 'a') as the_file:\n",
    "#    for i0 in range(n_var):\n",
    "#        i1,i2 = i1i2[i0,0],i1i2[i0,1]\n",
    "#        the_file.write(\" \".join([str(r) for r in p_ia[i1:i2-1]])+\"\\n\")                "
   ]
  },
  {
   "cell_type": "code",
   "execution_count": 27,
   "metadata": {},
   "outputs": [],
   "source": [
    "f = open('cov.dat','w')\n",
    "\n",
    "# p_ia:\n",
    "for i0 in range(n_var):\n",
    "    i1,i2 = i1i2[i0,0],i1i2[i0,1]\n",
    "\n",
    "    f.write(\" \".join([str(p_ia[ia]) for ia in range(i1,i2-1)])+\"\\n\") # exclude the last state\n",
    "    \n",
    "# p_iajb:\n",
    "for i0 in range(n_var-1):\n",
    "    i1,i2 = i1i2[i0,0],i1i2[i0,1]\n",
    "    \n",
    "    for j0 in range(i0+1,n_var):\n",
    "        j1,j2 = i1i2[j0,0],i1i2[j0,1]\n",
    "        \n",
    "        # exclude the last state\n",
    "        f.write(\" \".join([str(p_iajb[ia,jb]) for ia in range(i1,i2-1) for jb in range(j1,j2-1)])+\"\\n\") \n",
    "                     \n",
    "f.close() "
   ]
  },
  {
   "cell_type": "code",
   "execution_count": null,
   "metadata": {},
   "outputs": [],
   "source": []
  }
 ],
 "metadata": {
  "kernelspec": {
   "display_name": "Python 3",
   "language": "python",
   "name": "python3"
  },
  "language_info": {
   "codemirror_mode": {
    "name": "ipython",
    "version": 3
   },
   "file_extension": ".py",
   "mimetype": "text/x-python",
   "name": "python",
   "nbconvert_exporter": "python",
   "pygments_lexer": "ipython3",
   "version": "3.7.3"
  }
 },
 "nbformat": 4,
 "nbformat_minor": 2
}
