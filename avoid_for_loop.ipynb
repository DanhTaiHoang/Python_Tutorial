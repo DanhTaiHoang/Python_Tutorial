{
 "cells": [
  {
   "cell_type": "code",
   "execution_count": 2,
   "metadata": {},
   "outputs": [],
   "source": [
    "import numpy as np"
   ]
  },
  {
   "cell_type": "code",
   "execution_count": 3,
   "metadata": {},
   "outputs": [
    {
     "name": "stdout",
     "output_type": "stream",
     "text": [
      "[[11 12]\n",
      " [21 22]\n",
      " [31 32]]\n",
      "[[ 0.1  0.2]\n",
      " [10.  20. ]]\n",
      "[[  3.5 350. ]\n",
      " [  6.5 650. ]\n",
      " [  9.5 950. ]]\n"
     ]
    }
   ],
   "source": [
    "# avoid for loop:\n",
    "# d[j,k] =  sum_i a[j,i] * b[k,i]\n",
    "\n",
    "a = np.array([[11,12],[21,22],[31,32]])\n",
    "b = np.array([[0.1,0.2],[10,20]])\n",
    "print(a)\n",
    "print(b)\n",
    "\n",
    "c = a[:,:,np.newaxis] * b.T[np.newaxis,:,:]\n",
    "d = np.sum(c,axis=1)\n",
    "print(d)"
   ]
  },
  {
   "cell_type": "code",
   "execution_count": 6,
   "metadata": {},
   "outputs": [
    {
     "name": "stdout",
     "output_type": "stream",
     "text": [
      "[[11 12]\n",
      " [21 22]\n",
      " [31 32]]\n",
      "[[ 1  2]\n",
      " [10 20]]\n",
      "[[12  1]\n",
      " [32 21]\n",
      " [52 41]]\n"
     ]
    }
   ],
   "source": [
    "# d[t,j] = sum_i a[t,i] - b[i,j]\n",
    "\n",
    "a = np.array([[11,12],[21,22],[31,32]])\n",
    "print(a)\n",
    "\n",
    "b = np.array([[1,2],[10,20]])\n",
    "print(b)\n",
    "\n",
    "c = a[:,:,np.newaxis] - b[np.newaxis,:,:]\n",
    "d = np.sum(c,axis=1)\n",
    "print(d)"
   ]
  },
  {
   "cell_type": "code",
   "execution_count": 8,
   "metadata": {},
   "outputs": [
    {
     "name": "stdout",
     "output_type": "stream",
     "text": [
      "[[ 52.   72.5]\n",
      " [272.  182.5]\n",
      " [692.  492.5]]\n"
     ]
    }
   ],
   "source": [
    "# e[t,j] = mean_i (a[t,i] - b[i,j])**2\n",
    "e = np.mean(c**2,axis=1)\n",
    "print(e)"
   ]
  },
  {
   "cell_type": "code",
   "execution_count": 9,
   "metadata": {},
   "outputs": [
    {
     "name": "stdout",
     "output_type": "stream",
     "text": [
      "[[11 12]\n",
      " [21 22]\n",
      " [31 32]]\n"
     ]
    }
   ],
   "source": [
    "a = np.array([[11,12],[21,22],[31,32]])\n",
    "print(a)"
   ]
  },
  {
   "cell_type": "code",
   "execution_count": null,
   "metadata": {},
   "outputs": [],
   "source": []
  }
 ],
 "metadata": {
  "kernelspec": {
   "display_name": "Python 2",
   "language": "python",
   "name": "python2"
  },
  "language_info": {
   "codemirror_mode": {
    "name": "ipython",
    "version": 2
   },
   "file_extension": ".py",
   "mimetype": "text/x-python",
   "name": "python",
   "nbconvert_exporter": "python",
   "pygments_lexer": "ipython2",
   "version": "2.7.14"
  }
 },
 "nbformat": 4,
 "nbformat_minor": 2
}
