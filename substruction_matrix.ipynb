{
 "cells": [
  {
   "cell_type": "code",
   "execution_count": 2,
   "metadata": {},
   "outputs": [],
   "source": [
    "import numpy as np"
   ]
  },
  {
   "cell_type": "code",
   "execution_count": 3,
   "metadata": {},
   "outputs": [
    {
     "name": "stdout",
     "output_type": "stream",
     "text": [
      "[[ 1. 10.]\n",
      " [ 2. 20.]\n",
      " [ 3. 30.]]\n",
      "[[0.1]\n",
      " [0.2]]\n",
      "[[ 0.9  9.8]\n",
      " [ 1.9 19.8]\n",
      " [ 2.9 29.8]]\n"
     ]
    }
   ],
   "source": [
    "a = np.array([[1,10.], [2.,20.], [3.,30.]])\n",
    "print(a)\n",
    "\n",
    "b = np.array([[0.1],[0.2]])\n",
    "print(b)\n",
    "\n",
    "c = a - b.T\n",
    "print(c)"
   ]
  },
  {
   "cell_type": "code",
   "execution_count": 4,
   "metadata": {},
   "outputs": [
    {
     "name": "stdout",
     "output_type": "stream",
     "text": [
      "[[11 12 13]\n",
      " [21 22 23]]\n",
      "[1 2]\n",
      "[[1]\n",
      " [2]]\n",
      "[[10 11 12]\n",
      " [19 20 21]]\n"
     ]
    }
   ],
   "source": [
    "a = np.array([[11,12,13], [21,22,23]])\n",
    "print(a)\n",
    "b = np.array([1,2])\n",
    "print(b)\n",
    "\n",
    "b = b.reshape((-1,1))\n",
    "print(b)\n",
    "c = a-b\n",
    "print(c)"
   ]
  },
  {
   "cell_type": "code",
   "execution_count": 8,
   "metadata": {},
   "outputs": [
    {
     "name": "stdout",
     "output_type": "stream",
     "text": [
      "[[11 12]\n",
      " [21 22]\n",
      " [31 32]]\n",
      "[1 2]\n"
     ]
    },
    {
     "data": {
      "text/plain": [
       "array([[10, 10],\n",
       "       [20, 20],\n",
       "       [30, 30]])"
      ]
     },
     "execution_count": 8,
     "metadata": {},
     "output_type": "execute_result"
    }
   ],
   "source": [
    "a = np.array([[11,12], [21,22], [31,32]])\n",
    "print(a)\n",
    "\n",
    "b = np.array([1,2])\n",
    "print(b)\n",
    "\n",
    "a-b"
   ]
  },
  {
   "cell_type": "code",
   "execution_count": null,
   "metadata": {},
   "outputs": [],
   "source": []
  }
 ],
 "metadata": {
  "kernelspec": {
   "display_name": "Python 2",
   "language": "python",
   "name": "python2"
  },
  "language_info": {
   "codemirror_mode": {
    "name": "ipython",
    "version": 2
   },
   "file_extension": ".py",
   "mimetype": "text/x-python",
   "name": "python",
   "nbconvert_exporter": "python",
   "pygments_lexer": "ipython2",
   "version": "2.7.14"
  }
 },
 "nbformat": 4,
 "nbformat_minor": 2
}
