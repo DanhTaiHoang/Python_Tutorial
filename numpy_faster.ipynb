{
 "cells": [
  {
   "cell_type": "code",
   "execution_count": 1,
   "metadata": {},
   "outputs": [
    {
     "name": "stdout",
     "output_type": "stream",
     "text": [
      "(0, 'Marseille')\n",
      "(1, 'Amsterdam')\n",
      "(2, 'New York')\n",
      "(3, 'London')\n",
      "(0, 'Marseille')\n",
      "(1, 'Amsterdam')\n",
      "(2, 'New York')\n",
      "(3, 'London')\n"
     ]
    }
   ],
   "source": [
    "## Tip 1: enumerate - inline script\n",
    "cities = ['Marseille','Amsterdam','New York', 'London']\n",
    "# The bad way\n",
    "i = 0\n",
    "for city in cities:\n",
    "    print(i, city)\n",
    "    i +=1\n",
    "\n",
    "# The good way\n",
    "for i, city in enumerate(cities):\n",
    "    print(i, city)"
   ]
  },
  {
   "cell_type": "code",
   "execution_count": 2,
   "metadata": {},
   "outputs": [
    {
     "name": "stdout",
     "output_type": "stream",
     "text": [
      "(1, 2)\n",
      "(3, 4)\n",
      "(5, 6)\n",
      "(1, 2)\n",
      "(3, 4)\n",
      "(5, 6)\n"
     ]
    }
   ],
   "source": [
    "# Tip 2: zip - inline script\n",
    "x_list = [1, 3, 5]\n",
    "y_list = [2, 4, 6]\n",
    "#The bad way\n",
    "for i in range(len(x_list)):\n",
    "    x = x_list[i]\n",
    "    y = y_list[i]\n",
    "    print(x, y)\n",
    "\n",
    "#The good way\n",
    "for x, y in zip(x_list, y_list):\n",
    "    print(x, y)"
   ]
  },
  {
   "cell_type": "code",
   "execution_count": 3,
   "metadata": {},
   "outputs": [
    {
     "name": "stdout",
     "output_type": "stream",
     "text": [
      "Before: x = 10, y = -10\n",
      "After: x = -10, y = 10\n",
      "(20, -20)\n"
     ]
    }
   ],
   "source": [
    "# Tip 3: Tuple - inline script\n",
    "x = 10\n",
    "y = -10\n",
    "print('Before: x = %d, y = %d' %(x, y))\n",
    "# The bad way\n",
    "#tmp = y\n",
    "#y = x\n",
    "#x = tmp\n",
    "#print('After: x = %d, y = %d' %(x, y))\n",
    "# The good way\n",
    "x, y = y, x\n",
    "print('After: x = %d, y = %d' %(x, y))\n",
    "\n",
    "# tip:\n",
    "x, y = 20, -20\n",
    "print(x,y)"
   ]
  },
  {
   "cell_type": "code",
   "execution_count": 4,
   "metadata": {},
   "outputs": [
    {
     "name": "stdout",
     "output_type": "stream",
     "text": [
      "Not found!\n",
      "Not found!\n"
     ]
    }
   ],
   "source": [
    "# Tip 4: for loop\n",
    "letter = 'a'\n",
    "list = ['b', 'c', 'd']\n",
    "\n",
    "# The bad way\n",
    "found = False\n",
    "for alpha in list:\n",
    "    if letter == alpha:\n",
    "        print('Found!')\n",
    "        found = True\n",
    "        break\n",
    "if not found:\n",
    "    print('Not found!')\n",
    "\n",
    "# The good way\n",
    "for alpha in list:\n",
    "    if letter == alpha:\n",
    "        print('Found!')\n",
    "        break\n",
    "else: # if no break occurred\n",
    "    print('Not found!')"
   ]
  },
  {
   "cell_type": "code",
   "execution_count": 6,
   "metadata": {},
   "outputs": [
    {
     "name": "stdout",
     "output_type": "stream",
     "text": [
      "Converting\n",
      "1\n",
      "Done!\n",
      "Converting\n",
      "Conversion failed!\n",
      "Done!\n",
      "Converting\n",
      "Conversion failed!\n",
      "Done!\n"
     ]
    }
   ],
   "source": [
    "# Tip 6: try (try --> except --> else --> finally)\n",
    "# The bad way\n",
    "print('Converting')\n",
    "print(int(1)) # it doesn't work if change 1 by xx\n",
    "print('Done!')\n",
    "\n",
    "# The good way\n",
    "print('Converting')\n",
    "try:\n",
    "    print(int(xx))\n",
    "except:\n",
    "    print('Conversion failed!')\n",
    "else: # if no-except\n",
    "    print('Conversion successful!')\n",
    "print('Done!')\n",
    "\n",
    "# The good way\n",
    "print('Converting')\n",
    "try:\n",
    "    print(int(xx))\n",
    "except:\n",
    "    print('Conversion failed!')\n",
    "else: # if no-except\n",
    "    print('Conversion successful!')\n",
    "finally: # Always\n",
    "    print('Done!')"
   ]
  },
  {
   "cell_type": "code",
   "execution_count": 1,
   "metadata": {},
   "outputs": [
    {
     "name": "stdout",
     "output_type": "stream",
     "text": [
      "5\n",
      "5\n"
     ]
    }
   ],
   "source": [
    "# 1: Count elements in a list\n",
    "a_list = [1,2,3,4,5]\n",
    "\n",
    "# bad\n",
    "how_many = 0\n",
    "for element in a_list:\n",
    "    how_many += 1\n",
    "print(how_many)\n",
    "\n",
    "# good\n",
    "print(len(a_list))"
   ]
  },
  {
   "cell_type": "code",
   "execution_count": 2,
   "metadata": {},
   "outputs": [
    {
     "data": {
      "text/plain": [
       "[1, 3, 5]"
      ]
     },
     "execution_count": 2,
     "metadata": {},
     "output_type": "execute_result"
    }
   ],
   "source": [
    "# 2: filter a list\n",
    "# 222 ms\n",
    "output = []\n",
    "for element in a_list:\n",
    "    if element % 2:\n",
    "        output.append(element)\n",
    "# 234 ms\n",
    "list(filter(lambda x: x % 2, a_list))\n",
    "\n",
    "# 127 ms\n",
    "[item for item in a_list if item % 2]"
   ]
  },
  {
   "cell_type": "code",
   "execution_count": 3,
   "metadata": {},
   "outputs": [
    {
     "data": {
      "text/plain": [
       "False"
      ]
     },
     "execution_count": 3,
     "metadata": {},
     "output_type": "execute_result"
    }
   ],
   "source": [
    "# 3: membership testing\n",
    "def check_number(number):\n",
    "    for item in a_list:\n",
    "        if item == number:\n",
    "            return True\n",
    "    return False\n",
    "#%timeit check_number(50000)\n",
    "\n",
    "# 8.45 ms\n",
    "50000 in a_list"
   ]
  },
  {
   "cell_type": "code",
   "execution_count": 4,
   "metadata": {},
   "outputs": [
    {
     "name": "stdout",
     "output_type": "stream",
     "text": [
      "[1, 1, 5, 3, 7, 5]\n",
      "[1, 5, 3, 7]\n",
      "set([1, 3, 5, 7])\n"
     ]
    }
   ],
   "source": [
    "# 4: remove duplicates\n",
    "# 8.29 s\n",
    "a_list = [1,1,5,3,7,5]\n",
    "b_list = []\n",
    "for a in a_list:\n",
    "    if a not in b_list:\n",
    "        b_list.append(a)\n",
    "print(a_list)\n",
    "print(b_list)\n",
    "\n",
    "# 19.3 ms\n",
    "c_list = set(a_list)\n",
    "print(c_list)"
   ]
  },
  {
   "cell_type": "code",
   "execution_count": 5,
   "metadata": {},
   "outputs": [
    {
     "name": "stdout",
     "output_type": "stream",
     "text": [
      "[1, 1, 3, 5, 5, 7]\n",
      "[1, 1, 5, 3, 7, 5]\n",
      "[1, 1, 3, 5, 5, 7]\n"
     ]
    }
   ],
   "source": [
    "# 5: list sorting\n",
    "# 467 ms\n",
    "print(sorted(a_list)) ## sorted\n",
    "print(a_list)         # original\n",
    "\n",
    "# 77.6 ms\n",
    "a_list.sort()  # sorted\n",
    "print(a_list)"
   ]
  },
  {
   "cell_type": "code",
   "execution_count": 6,
   "metadata": {},
   "outputs": [],
   "source": [
    "# 7: 1000 operations and 1 function\n",
    "# 399 micro s\n",
    "def square(number):\n",
    "    return number**2\n",
    "squares = [square(i) for i in range(1000)]\n",
    "# 314 micro s\n",
    "def compute_square():\n",
    "    return [i**2 for i in range(1000)]"
   ]
  },
  {
   "cell_type": "code",
   "execution_count": 7,
   "metadata": {},
   "outputs": [],
   "source": [
    "# 8: checking for True\n",
    "variable = True\n",
    "# 35.8 ns\n",
    "#if variable == True:\n",
    "# 28.7 ns\n",
    "#if variable is True:\n",
    "# 20.6 ns\n",
    "#if variable:\n",
    "\n",
    "variable = False\n",
    "# 35.1 ns\n",
    "#if variable == False:\n",
    "# 26.9 ns\n",
    "#if variable is False:\n",
    "# 19.8 ns\n",
    "#if not variable:"
   ]
  },
  {
   "cell_type": "code",
   "execution_count": 8,
   "metadata": {},
   "outputs": [],
   "source": [
    "# 8: checking for empty list\n",
    "# 91.7 ns\n",
    "#if len(a_list) ==0:\n",
    "\n",
    "# 56.3 ns (60% faster)\n",
    "#if a_list ==[]:\n",
    "\n",
    "# 32.4 ns (280% faster)\n",
    "#if not a_list:"
   ]
  },
  {
   "cell_type": "code",
   "execution_count": 9,
   "metadata": {},
   "outputs": [],
   "source": [
    "# 9: def vs lambda : same performance, but can use lambda only when need 1 single line\n",
    "# 329 ns\n",
    "def greet(name):\n",
    "    return 'Hello {}!'.format(name)\n",
    "# 332 ns\n",
    "greet = lambda name: 'Hello {}'.format(name)"
   ]
  },
  {
   "cell_type": "code",
   "execution_count": 10,
   "metadata": {},
   "outputs": [],
   "source": [
    "# 12: variables lookup\n",
    "# 149 ms\n",
    "def squares(million_number):\n",
    "    output = []\n",
    "    for element in million_number:\n",
    "        output.append(element*element)\n",
    "    return output\n",
    "\n",
    "# 110 ms (35% faster and 27% more confusing)\n",
    "def squares_faster(million_number):\n",
    "    output = []\n",
    "    append = output.append #<=!!!!! easily geting confusing\n",
    "    for element in million_number:\n",
    "        append(element*element)\n",
    "    return output"
   ]
  },
  {
   "cell_type": "code",
   "execution_count": null,
   "metadata": {},
   "outputs": [],
   "source": []
  }
 ],
 "metadata": {
  "kernelspec": {
   "display_name": "Python 2",
   "language": "python",
   "name": "python2"
  },
  "language_info": {
   "codemirror_mode": {
    "name": "ipython",
    "version": 2
   },
   "file_extension": ".py",
   "mimetype": "text/x-python",
   "name": "python",
   "nbconvert_exporter": "python",
   "pygments_lexer": "ipython2",
   "version": "2.7.14"
  }
 },
 "nbformat": 4,
 "nbformat_minor": 2
}
