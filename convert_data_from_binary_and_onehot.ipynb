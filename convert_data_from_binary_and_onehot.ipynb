{
 "cells": [
  {
   "cell_type": "code",
   "execution_count": 1,
   "metadata": {},
   "outputs": [],
   "source": [
    "import numpy as np\n",
    "import pandas as pd\n",
    "from sklearn.preprocessing import OneHotEncoder"
   ]
  },
  {
   "cell_type": "code",
   "execution_count": 2,
   "metadata": {},
   "outputs": [
    {
     "name": "stdout",
     "output_type": "stream",
     "text": [
      "[[ 0.5  1.   0.   2.   0.1  0. ]\n",
      " [ 0.6  0.   0.   4.   5.1  2. ]\n",
      " [ 1.2  0.   0.   6.  11.   1. ]\n",
      " [ 1.5  1.   0.   6.  21.   1. ]\n",
      " [ 2.3  1.   1.   4.   0.2  2. ]\n",
      " [ 0.6  0.   1.   2.   1.3  0. ]]\n"
     ]
    }
   ],
   "source": [
    "# create data\n",
    "# 0rst coloumn: continuous, 1-2: binary, 3: category (3), 4: continuous, 5: category(3)\n",
    "x = np.array([[0.5,1,0,2,0.1,0],[0.6,0,0,4,5.1,2],[1.2,0,0,6,11,1],[1.5,1,0,6,21,1],[2.3,1,1,4,0.2,2],\\\n",
    "             [0.6,0,1,2,1.3,0]])\n",
    "print(x)"
   ]
  },
  {
   "cell_type": "code",
   "execution_count": 3,
   "metadata": {},
   "outputs": [
    {
     "name": "stdout",
     "output_type": "stream",
     "text": [
      "[5 2 2 3 6 3]\n"
     ]
    }
   ],
   "source": [
    "# find number of unique value for each column, to identify continuous, binary or category \n",
    "l,n = x.shape\n",
    "nu = np.array([len(np.unique(x[:,i])) for i in range(n)])\n",
    "print(nu)"
   ]
  },
  {
   "cell_type": "code",
   "execution_count": 4,
   "metadata": {
    "scrolled": true
   },
   "outputs": [
    {
     "name": "stdout",
     "output_type": "stream",
     "text": [
      "[[ 0.5  1.  -1.   1.   0.   0.   0.1  1.   0.   0. ]\n",
      " [ 0.6 -1.  -1.   0.   1.   0.   5.1  0.   0.   1. ]\n",
      " [ 1.2 -1.  -1.   0.   0.   1.  11.   0.   1.   0. ]\n",
      " [ 1.5  1.  -1.   0.   0.   1.  21.   0.   1.   0. ]\n",
      " [ 2.3  1.   1.   0.   1.   0.   0.2  0.   0.   1. ]\n",
      " [ 0.6 -1.   1.   1.   0.   0.   1.3  1.   0.   0. ]]\n"
     ]
    }
   ],
   "source": [
    "onehot_encoder = OneHotEncoder(sparse=False,categories='auto')\n",
    "\n",
    "n_category_threshold = 4 # threshold to define category or continuous or not\n",
    "\n",
    "# create 2 initial columns\n",
    "x_new = np.zeros((l,2))\n",
    "for i in range(n):    \n",
    "    if nu[i] > n_category_threshold: # continuous\n",
    "        x_new = np.hstack((x_new,x[:,i][:,np.newaxis]))\n",
    "    elif nu[i] == 2: # binary\n",
    "        unique_value = np.unique(x[:,i])\n",
    "        x1 = np.array([-1. if value == unique_value[0] else 1. for value in x[:,i]])        \n",
    "        x_new = np.hstack((x_new,x1[:,np.newaxis]))\n",
    "    else: # category      \n",
    "        x1 = onehot_encoder.fit_transform(x[:,i].reshape(-1,1))\n",
    "        x_new = np.hstack((x_new,x1))\n",
    "\n",
    "# drop the 2 initial column\n",
    "x_new = x_new[:,2:]\n",
    "print(x_new)"
   ]
  },
  {
   "cell_type": "code",
   "execution_count": 5,
   "metadata": {},
   "outputs": [],
   "source": [
    "#np.savetxt('x_new.dat',x_new,fmt='%f')"
   ]
  }
 ],
 "metadata": {
  "kernelspec": {
   "display_name": "Python 3",
   "language": "python",
   "name": "python3"
  },
  "language_info": {
   "codemirror_mode": {
    "name": "ipython",
    "version": 3
   },
   "file_extension": ".py",
   "mimetype": "text/x-python",
   "name": "python",
   "nbconvert_exporter": "python",
   "pygments_lexer": "ipython3",
   "version": "3.7.3"
  }
 },
 "nbformat": 4,
 "nbformat_minor": 2
}
